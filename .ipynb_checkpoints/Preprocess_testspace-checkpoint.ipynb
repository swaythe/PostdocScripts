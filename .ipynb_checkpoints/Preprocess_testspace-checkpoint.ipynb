{
 "cells": [
  {
   "cell_type": "code",
   "execution_count": null,
   "metadata": {
    "collapsed": false
   },
   "outputs": [],
   "source": [
    "#import preprocess"
   ]
  },
  {
   "cell_type": "code",
   "execution_count": null,
   "metadata": {
    "collapsed": false
   },
   "outputs": [],
   "source": []
  },
  {
   "cell_type": "code",
   "execution_count": 1,
   "metadata": {
    "collapsed": false
   },
   "outputs": [],
   "source": [
    "import os\n",
    "os.chdir('C:\\\\Users\\\\Swetha The Mighty\\\\Documents\\\\Categorization\\\\Scripts')"
   ]
  },
  {
   "cell_type": "code",
   "execution_count": null,
   "metadata": {
    "collapsed": true
   },
   "outputs": [],
   "source": [
    "import nibabel"
   ]
  },
  {
   "cell_type": "code",
   "execution_count": null,
   "metadata": {
    "collapsed": true
   },
   "outputs": [],
   "source": [
    "nibabel.l"
   ]
  },
  {
   "cell_type": "code",
   "execution_count": 2,
   "metadata": {
    "collapsed": false
   },
   "outputs": [
    {
     "ename": "AttributeError",
     "evalue": "'memmap' object has no attribute 'affine'",
     "output_type": "error",
     "traceback": [
      "\u001b[1;31m---------------------------------------------------------------------------\u001b[0m",
      "\u001b[1;31mAttributeError\u001b[0m                            Traceback (most recent call last)",
      "\u001b[1;32mC:\\Users\\Swetha The Mighty\\Documents\\Categorization\\Scripts\\preprocess_main.py\u001b[0m in \u001b[0;36m<module>\u001b[1;34m()\u001b[0m\n\u001b[0;32m     18\u001b[0m \u001b[0mepi_file\u001b[0m \u001b[1;33m=\u001b[0m \u001b[1;34m'EPI_Task1.nii'\u001b[0m\u001b[1;33m\u001b[0m\u001b[0m\n\u001b[0;32m     19\u001b[0m \u001b[0mfname\u001b[0m \u001b[1;33m=\u001b[0m \u001b[0msub\u001b[0m \u001b[1;33m+\u001b[0m \u001b[1;34m'\\\\'\u001b[0m \u001b[1;33m+\u001b[0m \u001b[0msess\u001b[0m \u001b[1;33m+\u001b[0m \u001b[1;34m'\\\\NIFTIS\\\\'\u001b[0m \u001b[1;33m+\u001b[0m \u001b[0mepi_file\u001b[0m\u001b[1;33m\u001b[0m\u001b[0m\n\u001b[1;32m---> 20\u001b[1;33m \u001b[0mop\u001b[0m \u001b[1;33m=\u001b[0m \u001b[0mmeanmask\u001b[0m\u001b[1;33m(\u001b[0m\u001b[0mfname\u001b[0m\u001b[1;33m)\u001b[0m\u001b[1;33m\u001b[0m\u001b[0m\n\u001b[0m\u001b[0;32m     21\u001b[0m \u001b[1;32mprint\u001b[0m\u001b[1;33m(\u001b[0m\u001b[0mop\u001b[0m\u001b[1;33m)\u001b[0m\u001b[1;33m\u001b[0m\u001b[0m\n",
      "\u001b[1;32mC:\\Users\\Swetha The Mighty\\Documents\\Categorization\\Scripts\\preprocess.py\u001b[0m in \u001b[0;36mmeanmask\u001b[1;34m(fname)\u001b[0m\n\u001b[0;32m     14\u001b[0m         \u001b[1;31m# Calculate the image mean\u001b[0m\u001b[1;33m\u001b[0m\u001b[1;33m\u001b[0m\u001b[0m\n\u001b[0;32m     15\u001b[0m         \u001b[0mmeanImg\u001b[0m \u001b[1;33m=\u001b[0m \u001b[0mtask1\u001b[0m\u001b[1;33m.\u001b[0m\u001b[0mmean\u001b[0m\u001b[1;33m(\u001b[0m\u001b[0maxis\u001b[0m\u001b[1;33m=\u001b[0m\u001b[1;33m-\u001b[0m\u001b[1;36m1\u001b[0m\u001b[1;33m)\u001b[0m\u001b[1;33m\u001b[0m\u001b[0m\n\u001b[1;32m---> 16\u001b[1;33m         \u001b[0mmean_image\u001b[0m \u001b[1;33m=\u001b[0m \u001b[0mnib\u001b[0m\u001b[1;33m.\u001b[0m\u001b[0mNifti1Image\u001b[0m\u001b[1;33m(\u001b[0m\u001b[0mmeanImg\u001b[0m\u001b[1;33m,\u001b[0m \u001b[0mtask1\u001b[0m\u001b[1;33m.\u001b[0m\u001b[0maffine\u001b[0m\u001b[1;33m)\u001b[0m\u001b[1;33m\u001b[0m\u001b[0m\n\u001b[0m\u001b[0;32m     17\u001b[0m         \u001b[0mnib\u001b[0m\u001b[1;33m.\u001b[0m\u001b[0msave\u001b[0m\u001b[1;33m(\u001b[0m\u001b[0mmean_image\u001b[0m\u001b[1;33m,\u001b[0m \u001b[1;34m'task1mean.nii'\u001b[0m\u001b[1;33m)\u001b[0m\u001b[1;33m\u001b[0m\u001b[0m\n\u001b[0;32m     18\u001b[0m \u001b[1;33m\u001b[0m\u001b[0m\n",
      "\u001b[1;31mAttributeError\u001b[0m: 'memmap' object has no attribute 'affine'"
     ]
    }
   ],
   "source": [
    "%run preprocess_main.py"
   ]
  },
  {
   "cell_type": "code",
   "execution_count": null,
   "metadata": {
    "collapsed": false
   },
   "outputs": [],
   "source": [
    "whos"
   ]
  },
  {
   "cell_type": "code",
   "execution_count": 7,
   "metadata": {
    "collapsed": false
   },
   "outputs": [],
   "source": [
    "import nibabel as nib\n",
    "img = nib.load(fname)\n",
    "task1 = img.get_data()"
   ]
  },
  {
   "cell_type": "code",
   "execution_count": 9,
   "metadata": {
    "collapsed": false
   },
   "outputs": [
    {
     "name": "stdout",
     "output_type": "stream",
     "text": [
      "[[   2.99999857   -0.           -0.         -103.49995422]\n",
      " [  -0.            2.99999976   -0.         -103.49999237]\n",
      " [   0.            0.            3.29999804  -51.14997101]\n",
      " [   0.            0.            0.            1.        ]]\n"
     ]
    }
   ],
   "source": [
    "print(img.affine)"
   ]
  },
  {
   "cell_type": "code",
   "execution_count": 11,
   "metadata": {
    "collapsed": false
   },
   "outputs": [
    {
     "name": "stdout",
     "output_type": "stream",
     "text": [
      "(70L, 70L, 32L)\n"
     ]
    },
    {
     "data": {
      "text/plain": [
       "numpy.core.memmap.memmap"
      ]
     },
     "execution_count": 11,
     "metadata": {},
     "output_type": "execute_result"
    }
   ],
   "source": [
    "meanImg = task1.mean(axis=-1)\n",
    "print(meanImg.shape)\n",
    "type(meanImg)"
   ]
  },
  {
   "cell_type": "code",
   "execution_count": 12,
   "metadata": {
    "collapsed": true
   },
   "outputs": [],
   "source": [
    "mean_image = nib.Nifti1Image(meanImg, img.affine)\n",
    "nib.save(mean_image, 'task1mean.nii')"
   ]
  },
  {
   "cell_type": "code",
   "execution_count": 13,
   "metadata": {
    "collapsed": false
   },
   "outputs": [
    {
     "name": "stdout",
     "output_type": "stream",
     "text": [
      "[[   2.99999857   -0.           -0.         -103.49995422]\n",
      " [  -0.            2.99999976   -0.         -103.49999237]\n",
      " [   0.            0.            3.29999804  -51.14997101]\n",
      " [   0.            0.            0.            1.        ]]\n",
      "(70L, 70L, 32L)\n"
     ]
    }
   ],
   "source": [
    "i2 = nib.load('task1mean.nii')\n",
    "print(i2.affine)\n",
    "print(img.dataobj[...,1].shape)"
   ]
  },
  {
   "cell_type": "code",
   "execution_count": null,
   "metadata": {
    "collapsed": false
   },
   "outputs": [],
   "source": [
    "import numpy\n",
    "mean_image = nib.Nifti1Image(task1.mean(axis=-1), task1.affine)"
   ]
  },
  {
   "cell_type": "code",
   "execution_count": null,
   "metadata": {
    "collapsed": false
   },
   "outputs": [],
   "source": [
    "plt.imshow(task1[:,:,10,20], cmap='gray')"
   ]
  },
  {
   "cell_type": "code",
   "execution_count": 29,
   "metadata": {
    "collapsed": false
   },
   "outputs": [
    {
     "name": "stdout",
     "output_type": "stream",
     "text": [
      "Variable         Type                   Data/Info\n",
      "-------------------------------------------------\n",
      "data_dir         str                    C:\\Users\\Swetha The Might<...>egorization\\Data\\Imaging\\\n",
      "dipy             module                 <module 'dipy' from 'C:\\U<...>kages\\dipy\\__init__.pyc'>\n",
      "division         __future__._Feature    _Feature((2, 2, 0, 'alpha<...> 0, 0, 'alpha', 0), 8192)\n",
      "epi_file         str                    EPI_Task1.nii\n",
      "fname            str                    Sub01\\Session_1\\NIFTIS\\EPI_Task1.nii\n",
      "i2               Nifti1Image            <class 'nibabel.nifti1.Ni<...>: \\nmagic           : n+1\n",
      "img              Nifti1Image            <class 'nibabel.nifti1.Ni<...>: \\nmagic           : n+1\n",
      "meanImg          memmap                 [[[ 22.37252045  22.10170<...>.           0.        ]]]\n",
      "mean_image       Nifti1Image            <class 'nibabel.nifti1.Ni<...>: \\nmagic           : n+1\n",
      "meanmask         function               <function meanmask at 0x0000000009DD92E8>\n",
      "median_otsu      function               <function median_otsu at 0x000000001811D6D8>\n",
      "nib              module                 <module 'nibabel' from 'C<...>es\\nibabel\\__init__.pyc'>\n",
      "os               module                 <module 'os' from 'C:\\Use<...>hty\\Anaconda\\lib\\os.pyc'>\n",
      "plt              module                 <module 'matplotlib.pyplo<...>s\\matplotlib\\pyplot.pyc'>\n",
      "print_function   __future__._Feature    _Feature((2, 6, 0, 'alpha<...>0, 0, 'alpha', 0), 65536)\n",
      "segment          module                 <module 'dipy.segment' fr<...>py\\segment\\__init__.pyc'>\n",
      "sess             str                    Session_1\n",
      "sub              str                    Sub01\n",
      "task1            memmap                 [[[[ 24.03718948  16.0819<...>           0.        ]]]]\n",
      "utils            module                 <module 'dipy.utils' from<...>dipy\\utils\\__init__.pyc'>\n"
     ]
    }
   ],
   "source": [
    "whos"
   ]
  },
  {
   "cell_type": "code",
   "execution_count": 28,
   "metadata": {
    "collapsed": false
   },
   "outputs": [],
   "source": [
    "from dipy.segment.mask import median_otsu"
   ]
  },
  {
   "cell_type": "code",
   "execution_count": 31,
   "metadata": {
    "collapsed": false
   },
   "outputs": [],
   "source": [
    "mvol, mask = median_otsu(meanImg)"
   ]
  },
  {
   "cell_type": "code",
   "execution_count": 32,
   "metadata": {
    "collapsed": false
   },
   "outputs": [
    {
     "name": "stdout",
     "output_type": "stream",
     "text": [
      "<class 'numpy.core.memmap.memmap'>\n",
      "<class 'numpy.core.memmap.memmap'>\n",
      "(70L, 70L, 32L)\n",
      "(70L, 70L, 32L)\n"
     ]
    }
   ],
   "source": [
    "print(type(mvol))\n",
    "print(type(mask))\n",
    "print(mvol.shape)\n",
    "print(mask.shape)"
   ]
  },
  {
   "cell_type": "code",
   "execution_count": null,
   "metadata": {
    "collapsed": false
   },
   "outputs": [],
   "source": []
  },
  {
   "cell_type": "code",
   "execution_count": null,
   "metadata": {
    "collapsed": false
   },
   "outputs": [],
   "source": []
  },
  {
   "cell_type": "code",
   "execution_count": null,
   "metadata": {
    "collapsed": false
   },
   "outputs": [],
   "source": [
    "import nipy.labs.mask as masker"
   ]
  },
  {
   "cell_type": "code",
   "execution_count": null,
   "metadata": {
    "collapsed": false
   },
   "outputs": [],
   "source": [
    "masker.compute_mask?"
   ]
  },
  {
   "cell_type": "code",
   "execution_count": null,
   "metadata": {
    "collapsed": false
   },
   "outputs": [],
   "source": [
    "maskImg1 = masker.compute_mask(mImg)\n",
    "maskImg2 = masker.compute_mask(mImg,m=0.2,M=0.8)\n",
    "maskImg3 = masker.compute_mask(mImg,m=0.6,M=0.95,exclude_zeros=True)\n",
    "maskImg4 = masker.compute_mask(mImg,exclude_zeros=True)\n",
    "maskImg5 = masker.compute_mask(mImg,cc=False)"
   ]
  },
  {
   "cell_type": "code",
   "execution_count": null,
   "metadata": {
    "collapsed": false
   },
   "outputs": [],
   "source": [
    "fig, axes = plt.subplots(1,3)\n",
    "axes[0].imshow(maskImg1[:,:,5], cmap='gray')\n",
    "axes[1].imshow(maskImg1[:,:,17], cmap='gray')\n",
    "axes[2].imshow(maskImg1[:,:,30], cmap='gray')\n",
    "\n",
    "fig, axes = plt.subplots(1,3)\n",
    "axes[0].imshow(maskImg2[:,:,5], cmap='gray')\n",
    "axes[1].imshow(maskImg2[:,:,17], cmap='gray')\n",
    "axes[2].imshow(maskImg2[:,:,30], cmap='gray')\n",
    "\n",
    "fig, axes = plt.subplots(1,3)\n",
    "axes[0].imshow(maskImg3[:,:,5], cmap='gray')\n",
    "axes[1].imshow(maskImg3[:,:,17], cmap='gray')\n",
    "axes[2].imshow(maskImg3[:,:,30], cmap='gray')\n",
    "\n",
    "fig, axes = plt.subplots(1,3)\n",
    "axes[0].imshow(maskImg4[:,:,5], cmap='gray')\n",
    "axes[1].imshow(maskImg4[:,:,17], cmap='gray')\n",
    "axes[2].imshow(maskImg4[:,:,30], cmap='gray')\n",
    "\n",
    "fig, axes = plt.subplots(1,3)\n",
    "axes[0].imshow(maskImg5[:,:,5], cmap='gray')\n",
    "axes[1].imshow(maskImg5[:,:,17], cmap='gray')\n",
    "axes[2].imshow(maskImg5[:,:,30], cmap='gray')"
   ]
  },
  {
   "cell_type": "code",
   "execution_count": null,
   "metadata": {
    "collapsed": true
   },
   "outputs": [],
   "source": [
    "flatMean = mImg.flatten()"
   ]
  },
  {
   "cell_type": "code",
   "execution_count": null,
   "metadata": {
    "collapsed": false
   },
   "outputs": [],
   "source": [
    "n,x = numpy.histogram(flatMean,100)\n",
    "plt.plot(x[:-1],n)"
   ]
  },
  {
   "cell_type": "code",
   "execution_count": null,
   "metadata": {
    "collapsed": true
   },
   "outputs": [],
   "source": [
    "from nipy import save_image\n",
    "save_image?"
   ]
  },
  {
   "cell_type": "code",
   "execution_count": null,
   "metadata": {
    "collapsed": false
   },
   "outputs": [],
   "source": [
    "from nibabel import affines\n",
    "affines.to_matvec?"
   ]
  },
  {
   "cell_type": "code",
   "execution_count": null,
   "metadata": {
    "collapsed": false
   },
   "outputs": [],
   "source": []
  },
  {
   "cell_type": "code",
   "execution_count": null,
   "metadata": {
    "collapsed": true
   },
   "outputs": [],
   "source": []
  },
  {
   "cell_type": "code",
   "execution_count": null,
   "metadata": {
    "collapsed": false
   },
   "outputs": [],
   "source": []
  },
  {
   "cell_type": "code",
   "execution_count": null,
   "metadata": {
    "collapsed": true
   },
   "outputs": [],
   "source": []
  }
 ],
 "metadata": {
  "kernelspec": {
   "display_name": "Python 2",
   "language": "python",
   "name": "python2"
  },
  "language_info": {
   "codemirror_mode": {
    "name": "ipython",
    "version": 2
   },
   "file_extension": ".py",
   "mimetype": "text/x-python",
   "name": "python",
   "nbconvert_exporter": "python",
   "pygments_lexer": "ipython2",
   "version": "2.7.9"
  }
 },
 "nbformat": 4,
 "nbformat_minor": 0
}
