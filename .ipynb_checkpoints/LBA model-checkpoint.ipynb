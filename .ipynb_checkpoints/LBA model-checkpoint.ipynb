{
 "cells": [
  {
   "cell_type": "code",
   "execution_count": null,
   "metadata": {
    "collapsed": true
   },
   "outputs": [],
   "source": [
    "# This is the Linear Ballistic Accumulator model. \n",
    "# Model parameters:\n",
    "# b: Bound\n",
    "# tR: Residual time\n",
    "# vT,vD: Mean drift rates of target and distracter\n",
    "# s: SD of drift rate\n",
    "# A: Starting point\n",
    "\n",
    "# Drift rates are normally distributed N(v,s), and there will be\n",
    "# 20 sets of vt and vd, one for each CD combination.\n",
    "# Starting point is uniformly distributed U[0,A]"
   ]
  },
  {
   "cell_type": "code",
   "execution_count": 4,
   "metadata": {
    "collapsed": true
   },
   "outputs": [],
   "source": [
    "# Load required libraries\n",
    "% matplotlib inline\n",
    "import numpy as np\n",
    "import matplotlib.pyplot as plt\n",
    "import pandas as pd\n",
    "from math import factorial as fact"
   ]
  },
  {
   "cell_type": "code",
   "execution_count": 5,
   "metadata": {
    "collapsed": true
   },
   "outputs": [],
   "source": [
    "# List subjects to fit\n",
    "subs = ['Sub01', 'Sub02', 'Sub04', 'Sub05', 'Sub06', 'Sub08', 'Sub10', 'Sub11', 'Sub13']\n",
    "nSub = len(subs)\n",
    "\n",
    "# Initialize arrays to hold PC, mean and SD of RT, and # trials \n",
    "# for each coherence-distanct combination\n",
    "# These values are obtained from the .csv files\n",
    "pCs = np.zeros((20, nSub))\n",
    "mRTs = np.zeros((20, nSub))\n",
    "sdRTs = np.zeros((20, nSub))\n",
    "Ns = np.zeros((20, nSub))\n",
    "\n",
    "# Initialise a variable to hold # correct trials\n",
    "# This will be computed from Ns and pCs\n",
    "Rs = np.zeros((20, nSub))\n",
    "\n",
    "# Extract behavioral data (PC, mean and SD of RT, # trials) from csv files\n",
    "for si in range(nSub):\n",
    "    csvFile = '../Data/Behavior/' + subs[si] + '_behavData.csv'\n",
    "    behavData = pd.read_csv(csvFile, header=None)\n",
    "    \n",
    "    # Split the file in PC, mean RT and SD RT\n",
    "    # Flatten each subject's values for ease of programming\n",
    "    pCs[:,si] = np.array(behavData[0:4]).flatten()\n",
    "    mRTs[:,si] = np.array(behavData[4:8]).flatten()\n",
    "    sdRTs[:,si] = np.array(behavData[8:12]).flatten()\n",
    "    Ns[:,si] = np.array(behavData[12:]).flatten()\n",
    "    Rs[:,si] = np.round(Ns[:,si] * pCs[:,si])"
   ]
  },
  {
   "cell_type": "code",
   "execution_count": 11,
   "metadata": {
    "collapsed": false
   },
   "outputs": [
    {
     "ename": "KeyboardInterrupt",
     "evalue": "",
     "output_type": "error",
     "traceback": [
      "\u001b[1;31m---------------------------------------------------------------------------\u001b[0m",
      "\u001b[1;31mKeyboardInterrupt\u001b[0m                         Traceback (most recent call last)",
      "\u001b[1;32m<ipython-input-11-e637ecfb0d65>\u001b[0m in \u001b[0;36m<module>\u001b[1;34m()\u001b[0m\n\u001b[0;32m     42\u001b[0m         \u001b[0mk\u001b[0m \u001b[1;33m=\u001b[0m \u001b[0mnp\u001b[0m\u001b[1;33m.\u001b[0m\u001b[0mrandom\u001b[0m\u001b[1;33m.\u001b[0m\u001b[0muniform\u001b[0m\u001b[1;33m(\u001b[0m\u001b[1;36m0\u001b[0m\u001b[1;33m,\u001b[0m \u001b[0mAs\u001b[0m\u001b[1;33m[\u001b[0m\u001b[0mpi1\u001b[0m\u001b[1;33m]\u001b[0m\u001b[1;33m,\u001b[0m \u001b[0mnTrials\u001b[0m\u001b[1;33m)\u001b[0m\u001b[1;33m\u001b[0m\u001b[0m\n\u001b[0;32m     43\u001b[0m         \u001b[1;32mfor\u001b[0m \u001b[0mpi2\u001b[0m \u001b[1;32min\u001b[0m \u001b[0mrange\u001b[0m\u001b[1;33m(\u001b[0m\u001b[0mnPar2\u001b[0m\u001b[1;33m)\u001b[0m\u001b[1;33m:\u001b[0m\u001b[1;33m\u001b[0m\u001b[0m\n\u001b[1;32m---> 44\u001b[1;33m             \u001b[0mdT\u001b[0m \u001b[1;33m=\u001b[0m \u001b[0mnp\u001b[0m\u001b[1;33m.\u001b[0m\u001b[0mrandom\u001b[0m\u001b[1;33m.\u001b[0m\u001b[0mnormal\u001b[0m\u001b[1;33m(\u001b[0m\u001b[0mvTs\u001b[0m\u001b[1;33m[\u001b[0m\u001b[0mpi2\u001b[0m\u001b[1;33m]\u001b[0m\u001b[1;33m,\u001b[0m \u001b[0mss\u001b[0m\u001b[1;33m[\u001b[0m\u001b[0mpi1\u001b[0m\u001b[1;33m]\u001b[0m\u001b[1;33m,\u001b[0m \u001b[0mnTrials\u001b[0m\u001b[1;33m)\u001b[0m\u001b[1;33m\u001b[0m\u001b[0m\n\u001b[0m\u001b[0;32m     45\u001b[0m             \u001b[0mdD\u001b[0m \u001b[1;33m=\u001b[0m \u001b[0mnp\u001b[0m\u001b[1;33m.\u001b[0m\u001b[0mrandom\u001b[0m\u001b[1;33m.\u001b[0m\u001b[0mnormal\u001b[0m\u001b[1;33m(\u001b[0m\u001b[0mvDs\u001b[0m\u001b[1;33m[\u001b[0m\u001b[0mpi2\u001b[0m\u001b[1;33m]\u001b[0m\u001b[1;33m,\u001b[0m \u001b[0mss\u001b[0m\u001b[1;33m[\u001b[0m\u001b[0mpi1\u001b[0m\u001b[1;33m]\u001b[0m\u001b[1;33m,\u001b[0m \u001b[0mnTrials\u001b[0m\u001b[1;33m)\u001b[0m\u001b[1;33m\u001b[0m\u001b[0m\n\u001b[0;32m     46\u001b[0m             \u001b[0mtT\u001b[0m \u001b[1;33m=\u001b[0m \u001b[0mtRs\u001b[0m\u001b[1;33m[\u001b[0m\u001b[0mpi1\u001b[0m\u001b[1;33m]\u001b[0m \u001b[1;33m+\u001b[0m \u001b[1;33m(\u001b[0m\u001b[0mbs\u001b[0m\u001b[1;33m[\u001b[0m\u001b[0mpi1\u001b[0m\u001b[1;33m]\u001b[0m \u001b[1;33m-\u001b[0m \u001b[0mk\u001b[0m\u001b[1;33m)\u001b[0m \u001b[1;33m/\u001b[0m \u001b[0mdT\u001b[0m\u001b[1;33m\u001b[0m\u001b[0m\n",
      "\u001b[1;31mKeyboardInterrupt\u001b[0m: "
     ]
    }
   ],
   "source": [
    "# First run of the model\n",
    "\n",
    "# These parameters vary less frequently\n",
    "b = np.linspace(200,600,10)\n",
    "tR = np.linspace(0.1,1,10)\n",
    "s = np.linspace(0.1,1,10)\n",
    "\n",
    "# Create a meshgrid of the above parameters\n",
    "bs, tRs, ss = np.meshgrid(b, tR, s)\n",
    "bs = bs.flatten()\n",
    "tRs = tRs.flatten()\n",
    "ss = ss.flatten()\n",
    "\n",
    "# Number of parameters \n",
    "nPar1 = len(bs)\n",
    "\n",
    "# These parameters vary more frequently\n",
    "A = np.linspace(200,600,10)\n",
    "vT = np.linspace(0.1,5,10)\n",
    "vD = np.linspace(0.1,5,10)\n",
    "\n",
    "# Create a meshgrid of the above parameters\n",
    "As, vTs, vDs = np.meshgrid(A, vT, vD)\n",
    "As = As.flatten()\n",
    "vTs = vTs.flatten()\n",
    "vDs = vDs.flatten()\n",
    "\n",
    "nPar2 = len(vTs)\n",
    "\n",
    "# Coherence-distance combinations\n",
    "nCD = 20\n",
    "\n",
    "# Number of simulations per parameter combination\n",
    "nTrials = 500\n",
    "\n",
    "# Model output variables \n",
    "# Acc = np.zeros((nPar1, nPar2, nCD, nTrials))\n",
    "# RTs = np.zeros((nPar1, nPar2, nCD, nTrials))\n",
    "\n",
    "for cdi in range(nCD):\n",
    "    for pi1 in range(nPar1):\n",
    "        for pi2 in range(nPar2):\n",
    "            k = np.random.uniform(0, As[pi2], nTrials) \n",
    "            dT = np.random.normal(vTs[pi2], ss[pi1], nTrials)\n",
    "            dD = np.random.normal(vDs[pi2], ss[pi1], nTrials)\n",
    "            tT = tRs[pi1] + (bs[pi1] - k) / dT\n",
    "            tD = tRs[pi1] + (bs[pi1] - k) / dD\n",
    "\n",
    "RTs = np.minimum(tT, tD)\n",
    "Acc = tT < tD"
   ]
  },
  {
   "cell_type": "code",
   "execution_count": 10,
   "metadata": {
    "collapsed": false
   },
   "outputs": [
    {
     "data": {
      "text/plain": [
       "10"
      ]
     },
     "execution_count": 10,
     "metadata": {},
     "output_type": "execute_result"
    }
   ],
   "source": [
    "pi1"
   ]
  },
  {
   "cell_type": "code",
   "execution_count": 3,
   "metadata": {
    "collapsed": false
   },
   "outputs": [
    {
     "name": "stderr",
     "output_type": "stream",
     "text": [
      "ERROR: Line magic function `%mprun` not found.\n"
     ]
    }
   ],
   "source": [
    "% mprun"
   ]
  },
  {
   "cell_type": "code",
   "execution_count": null,
   "metadata": {
    "collapsed": true
   },
   "outputs": [],
   "source": []
  }
 ],
 "metadata": {
  "kernelspec": {
   "display_name": "Python 2",
   "language": "python",
   "name": "python2"
  },
  "language_info": {
   "codemirror_mode": {
    "name": "ipython",
    "version": 2
   },
   "file_extension": ".py",
   "mimetype": "text/x-python",
   "name": "python",
   "nbconvert_exporter": "python",
   "pygments_lexer": "ipython2",
   "version": "2.7.9"
  }
 },
 "nbformat": 4,
 "nbformat_minor": 0
}
