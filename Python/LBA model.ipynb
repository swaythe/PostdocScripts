{
 "cells": [
  {
   "cell_type": "code",
   "execution_count": null,
   "metadata": {
    "collapsed": true
   },
   "outputs": [],
   "source": [
    "# This is the Linear Ballistic Accumulator model. \n",
    "# Model parameters:\n",
    "# b: Bound\n",
    "# tR: Residual time\n",
    "# vT,vD: Mean drift rates of target and distracter\n",
    "# s: SD of drift rate\n",
    "# A: Starting point\n",
    "\n",
    "# Drift rates are normally distributed N(v,s), and there will be\n",
    "# 20 sets of vt and vd, one for each CD combination.\n",
    "# Starting point is uniformly distributed U[0,A]"
   ]
  },
  {
   "cell_type": "code",
   "execution_count": 1,
   "metadata": {
    "collapsed": true
   },
   "outputs": [],
   "source": [
    "# Load required libraries\n",
    "% matplotlib inline\n",
    "import numpy as np\n",
    "import matplotlib.pyplot as plt\n",
    "import pandas as pd"
   ]
  },
  {
   "cell_type": "code",
   "execution_count": 2,
   "metadata": {
    "collapsed": false
   },
   "outputs": [],
   "source": [
    "# List subjects to fit\n",
    "subs = ['Sub01', 'Sub02', 'Sub04', 'Sub05', 'Sub06', 'Sub08', 'Sub10', 'Sub11', 'Sub13']\n",
    "nSub = len(subs)\n",
    "\n",
    "# Initialize arrays to hold PC, mean and SD of RT, and # trials \n",
    "# for each coherence-distanct combination\n",
    "# These values are obtained from the .csv files\n",
    "pCs = np.zeros((20, nSub), dtype = np.float16)\n",
    "mRTs = np.zeros((20, nSub), dtype = np.float16)\n",
    "sdRTs = np.zeros((20, nSub), dtype = np.float16)\n",
    "Ns = np.zeros((20, nSub), dtype = np.uint16)\n",
    "\n",
    "# Initialise a variable to hold # correct trials\n",
    "# This will be computed from Ns and pCs\n",
    "Rs = np.zeros((20, nSub), dtype = np.uint16)\n",
    "\n",
    "# Extract behavioral data (PC, mean and SD of RT, # trials) from csv files\n",
    "for si in range(nSub):\n",
    "    csvFile = '../Data/Behavior/' + subs[si] + '_behavData.csv'\n",
    "    behavData = pd.read_csv(csvFile, header=None)\n",
    "    \n",
    "    # Split the file in PC, mean RT and SD RT\n",
    "    # Flatten each subject's values for ease of programming\n",
    "    pCs[:,si] = np.array(behavData[0:4]).flatten()\n",
    "    mRTs[:,si] = np.array(behavData[4:8]).flatten()\n",
    "    sdRTs[:,si] = np.array(behavData[8:12]).flatten()\n",
    "    Ns[:,si] = np.array(behavData[12:]).flatten()\n",
    "    Rs[:,si] = np.round(Ns[:,si] * pCs[:,si])"
   ]
  },
  {
   "cell_type": "code",
   "execution_count": null,
   "metadata": {
    "collapsed": false
   },
   "outputs": [],
   "source": [
    "# First run of the model\n",
    "\n",
    "# Coherence-distance combinations\n",
    "nCD = 20\n",
    "\n",
    "# Number of simulations per parameter combination\n",
    "nTrials = 500\n",
    "\n",
    "# These parameters vary less frequently\n",
    "b = np.linspace(200, 600, 10, dtype = np.uint16)\n",
    "tR = np.linspace(0.1, 1, 10, dtype = np.float16)\n",
    "s = np.linspace(0.1, 1, 10, dtype = np.float16)\n",
    "\n",
    "# Create a meshgrid of the above parameters\n",
    "bs, tRs, ss = np.meshgrid(b, tR, s)\n",
    "print(p.memory_info()[0] / float(2 ** 20))\n",
    "bs = bs.flatten()\n",
    "tRs = tRs.flatten()\n",
    "ss = ss.flatten()\n",
    "print(p.memory_info()[0] / float(2 ** 20))"
   ]
  },
  {
   "cell_type": "code",
   "execution_count": null,
   "metadata": {
    "collapsed": false
   },
   "outputs": [],
   "source": [
    "# Number of parameters \n",
    "nPar1 = len(bs)\n",
    "\n",
    "# These parameters vary more frequently\n",
    "A = np.linspace(200, 600, 10, dtype = np.uint16)\n",
    "vT = np.linspace(0.1, 5, 10, dtype = np.float16)\n",
    "vD = np.linspace(0.1, 5, 10, dtype = np.float16)\n",
    "\n",
    "ks = np.zeros((len(A),nTrials))\n",
    "for ai in range(len(A)):\n",
    "    ks[ai,:] = np.random.uniform(0,A[ai],nTrials)\n",
    "    \n",
    "# Create a meshgrid of the above parameters\n",
    "As, vTs, vDs = np.meshgrid(A, vT, vD)\n",
    "As = As.flatten()\n",
    "vTs = vTs.flatten()\n",
    "vDs = vDs.flatten()\n",
    "print(p.memory_info()[0] / float(2 ** 20))"
   ]
  },
  {
   "cell_type": "code",
   "execution_count": null,
   "metadata": {
    "collapsed": false
   },
   "outputs": [],
   "source": [
    "nPar2 = len(vTs)\n",
    "\n",
    "# Model output variables \n",
    "Acc = np.zeros((nPar1, nPar2, nCD, nTrials), dtype = np.float16)\n",
    "RTs = np.zeros((nPar1, nPar2, nCD, nTrials), dtype = np.float16)\n",
    "print(p.memory_info()[0] / float(2 ** 20))"
   ]
  },
  {
   "cell_type": "code",
   "execution_count": null,
   "metadata": {
    "collapsed": false
   },
   "outputs": [],
   "source": [
    "Acc = np.zeros((nPar1*nPar2, nCD, 10), dtype = np.float)\n",
    "print(Acc.nbytes / float(2 ** 30))"
   ]
  },
  {
   "cell_type": "code",
   "execution_count": null,
   "metadata": {
    "collapsed": false
   },
   "outputs": [],
   "source": [
    "print(p.memory_info()[0] / float(2 ** 20))"
   ]
  },
  {
   "cell_type": "code",
   "execution_count": null,
   "metadata": {
    "collapsed": false
   },
   "outputs": [],
   "source": [
    "nPar1*nPar2*nCD*100"
   ]
  },
  {
   "cell_type": "code",
   "execution_count": null,
   "metadata": {
    "collapsed": false
   },
   "outputs": [],
   "source": [
    "for cdi in range(nCD):\n",
    "    for pi1 in range(nPar1):\n",
    "        for pi2 in range(nPar2):\n",
    "            k = np.random.uniform(0, As[pi2], nTrials) \n",
    "            dT = np.random.normal(vTs[pi2], ss[pi1], nTrials)\n",
    "            dD = np.random.normal(vDs[pi2], ss[pi1], nTrials)\n",
    "            tT = tRs[pi1] + (bs[pi1] - k) / dT\n",
    "            tD = tRs[pi1] + (bs[pi1] - k) / dD\n",
    "\n",
    "RTs = np.minimum(tT, tD)\n",
    "Acc = tT < tD"
   ]
  },
  {
   "cell_type": "code",
   "execution_count": 6,
   "metadata": {
    "collapsed": false
   },
   "outputs": [
    {
     "data": {
      "text/plain": [
       "array([[200, 200],\n",
       "       [244, 244],\n",
       "       [288, 288],\n",
       "       [333, 333],\n",
       "       [377, 377],\n",
       "       [422, 422],\n",
       "       [466, 466],\n",
       "       [511, 511],\n",
       "       [555, 555],\n",
       "       [600, 600]], dtype=uint16)"
      ]
     },
     "execution_count": 6,
     "metadata": {},
     "output_type": "execute_result"
    }
   ],
   "source": [
    "b = np.reshape(np.linspace(200, 600, 10, dtype = np.uint16),(10,1)) * np.ones((10,1000),dtype = np.uint16)\n"
   ]
  },
  {
   "cell_type": "code",
   "execution_count": null,
   "metadata": {
    "collapsed": false
   },
   "outputs": [],
   "source": [
    "b = np.linspace(200, 600, 10, dtype = np.uint16) * np.ones((10,1000))\n",
    "tR = np.linspace(0.1, 1, 10, dtype = np.float16)\n",
    "\n",
    "A = np.linspace(200, 600, 10, dtype = np.uint16)\n",
    "\n",
    "s = np.linspace(0.1, 1, 10, dtype = np.float16)\n",
    "vT = np.linspace(0.1, 5, 10, dtype = np.float16)\n",
    "vD = np.linspace(0.1, 5, 10, dtype = np.float16)"
   ]
  },
  {
   "cell_type": "code",
   "execution_count": null,
   "metadata": {
    "collapsed": true
   },
   "outputs": [],
   "source": []
  }
 ],
 "metadata": {
  "kernelspec": {
   "display_name": "Python 2",
   "language": "python",
   "name": "python2"
  },
  "language_info": {
   "codemirror_mode": {
    "name": "ipython",
    "version": 2
   },
   "file_extension": ".py",
   "mimetype": "text/x-python",
   "name": "python",
   "nbconvert_exporter": "python",
   "pygments_lexer": "ipython2",
   "version": "2.7.9"
  }
 },
 "nbformat": 4,
 "nbformat_minor": 0
}
