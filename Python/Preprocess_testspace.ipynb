{
 "cells": [
  {
   "cell_type": "code",
   "execution_count": null,
   "metadata": {
    "collapsed": false
   },
   "outputs": [],
   "source": [
    "import os\n",
    "os.chdir('C:\\\\Users\\\\Swetha The Mighty\\\\Documents\\\\Categorization\\\\Data\\\\Imaging\\\\Sub01\\\\Session_1\\\\NIFTIS')"
   ]
  },
  {
   "cell_type": "code",
   "execution_count": null,
   "metadata": {
    "collapsed": false
   },
   "outputs": [],
   "source": [
    "import nibabel as nib\n",
    "import numpy as np\n",
    "from dipy.segment.mask import median_otsu\n",
    "import nipy.labs.mask as masker\n",
    "import matplotlib.pyplot as plt\n",
    "import timeit\n",
    "%matplotlib inline"
   ]
  },
  {
   "cell_type": "code",
   "execution_count": null,
   "metadata": {
    "collapsed": true
   },
   "outputs": [],
   "source": [
    "from dipy.segment.mask import np"
   ]
  },
  {
   "cell_type": "code",
   "execution_count": null,
   "metadata": {
    "collapsed": false
   },
   "outputs": [],
   "source": [
    "median_otsu?"
   ]
  },
  {
   "cell_type": "code",
   "execution_count": null,
   "metadata": {
    "collapsed": false
   },
   "outputs": [],
   "source": [
    "fname = 'Sub01mean.nii'\n",
    "img = nib.load(fname)\n",
    "meanImg = img.get_data()"
   ]
  },
  {
   "cell_type": "code",
   "execution_count": null,
   "metadata": {
    "collapsed": false
   },
   "outputs": [],
   "source": [
    "type(meanImg)"
   ]
  },
  {
   "cell_type": "code",
   "execution_count": null,
   "metadata": {
    "collapsed": false
   },
   "outputs": [],
   "source": [
    "mvol, maskImg3 = median_otsu(meanImg,2,1)"
   ]
  },
  {
   "cell_type": "code",
   "execution_count": null,
   "metadata": {
    "collapsed": false
   },
   "outputs": [],
   "source": [
    "type(maskImg3)"
   ]
  },
  {
   "cell_type": "code",
   "execution_count": null,
   "metadata": {
    "collapsed": false
   },
   "outputs": [],
   "source": [
    "maskImg1 = masker.compute_mask(meanImg)\n",
    "maskImg2 = masker.compute_mask(meanImg,m=0.45,M=0.95)"
   ]
  },
  {
   "cell_type": "code",
   "execution_count": null,
   "metadata": {
    "collapsed": false
   },
   "outputs": [],
   "source": [
    "type(maskImg1)"
   ]
  },
  {
   "cell_type": "code",
   "execution_count": null,
   "metadata": {
    "collapsed": false
   },
   "outputs": [],
   "source": [
    "nib.Nifti1Pair?"
   ]
  },
  {
   "cell_type": "code",
   "execution_count": null,
   "metadata": {
    "collapsed": false
   },
   "outputs": [],
   "source": [
    "fig, axes = plt.subplots(1,3)\n",
    "axes[0].imshow(meanImg[:,:,5], cmap='gray')\n",
    "axes[1].imshow(meanImg[:,:,17], cmap='gray')\n",
    "axes[2].imshow(meanImg[:,:,30], cmap='gray')\n",
    "\n",
    "fig, axes = plt.subplots(1,3)\n",
    "axes[0].imshow(maskImg1[:,:,5], cmap='gray')\n",
    "axes[1].imshow(maskImg1[:,:,17], cmap='gray')\n",
    "axes[2].imshow(maskImg1[:,:,30], cmap='gray')\n",
    "\n",
    "fig, axes = plt.subplots(1,3)\n",
    "axes[0].imshow(maskImg2[:,:,5], cmap='gray')\n",
    "axes[1].imshow(maskImg2[:,:,17], cmap='gray')\n",
    "axes[2].imshow(maskImg2[:,:,30], cmap='gray')\n",
    "\n",
    "fig, axes = plt.subplots(1,3)\n",
    "axes[0].imshow(maskImg3[:,:,5], cmap='gray')\n",
    "axes[1].imshow(maskImg3[:,:,17], cmap='gray')\n",
    "axes[2].imshow(maskImg3[:,:,30], cmap='gray')"
   ]
  },
  {
   "cell_type": "code",
   "execution_count": null,
   "metadata": {
    "collapsed": false
   },
   "outputs": [],
   "source": [
    "s1 = timeit.time.clock()\n",
    "resMean2 = meanImg.flatten()\n",
    "s2 = timeit.time.clock()\n",
    "print(s2-s1)\n",
    "s1 = timeit.time.clock()\n",
    "resMean1 = meanImg.reshape(-1)\n",
    "s2 = timeit.time.clock()\n",
    "print(s2-s1)"
   ]
  },
  {
   "cell_type": "code",
   "execution_count": null,
   "metadata": {
    "collapsed": false
   },
   "outputs": [],
   "source": [
    "os.chdir('C:\\\\Users\\\\Swetha The Mighty\\\\Documents\\\\Categorization\\\\Scripts')\n",
    "from myMask import my_mask"
   ]
  },
  {
   "cell_type": "code",
   "execution_count": null,
   "metadata": {
    "collapsed": false
   },
   "outputs": [],
   "source": [
    "maskImg4, th, mDelta = my_mask(meanImg)"
   ]
  },
  {
   "cell_type": "code",
   "execution_count": null,
   "metadata": {
    "collapsed": false
   },
   "outputs": [],
   "source": [
    "print(th, mDelta)"
   ]
  },
  {
   "cell_type": "code",
   "execution_count": null,
   "metadata": {
    "collapsed": true
   },
   "outputs": [],
   "source": [
    "resMean = meanImg.flatten()"
   ]
  },
  {
   "cell_type": "code",
   "execution_count": null,
   "metadata": {
    "collapsed": false
   },
   "outputs": [],
   "source": [
    "resMean.shape"
   ]
  },
  {
   "cell_type": "code",
   "execution_count": null,
   "metadata": {
    "collapsed": false
   },
   "outputs": [],
   "source": [
    "plt.plot(np.sort(resMean),'.')\n",
    "plt.plot([0.45*len(resMean), 0.45*len(resMean)],[min(resMean), max(resMean)],'r-')\n",
    "plt.plot([0.95*len(resMean), 0.95*len(resMean)],[min(resMean), max(resMean)],'r-')"
   ]
  },
  {
   "cell_type": "code",
   "execution_count": null,
   "metadata": {
    "collapsed": true
   },
   "outputs": [],
   "source": [
    "plt.Line2D.draw?"
   ]
  },
  {
   "cell_type": "code",
   "execution_count": null,
   "metadata": {
    "collapsed": false
   },
   "outputs": [],
   "source": [
    "fig, axes = plt.subplots(1,3)\n",
    "axes[0].imshow(maskImg4[:,:,5])\n",
    "axes[1].imshow(maskImg4[:,:,17], cmap='gray')\n",
    "axes[2].imshow(maskImg4[:,:,30], cmap='gray')"
   ]
  },
  {
   "cell_type": "code",
   "execution_count": null,
   "metadata": {
    "collapsed": false
   },
   "outputs": [],
   "source": [
    "maskImg4.shape"
   ]
  },
  {
   "cell_type": "code",
   "execution_count": null,
   "metadata": {
    "collapsed": false
   },
   "outputs": [],
   "source": [
    "plt.plot(maskImg4[35,35,:])"
   ]
  },
  {
   "cell_type": "code",
   "execution_count": null,
   "metadata": {
    "collapsed": true
   },
   "outputs": [],
   "source": [
    "def my_mask(mean_volume, reference_volume=None, m=0.45, M=0.95, cc=True, opening=2, exclude_zeros=False):\n",
    "    sorted_input = np.sort(mean_volume.reshape(-1))\n",
    "    limiteinf = np.floor(m * len(sorted_input))\n",
    "    limitesup = np.floor(M * len(sorted_input))\n",
    "    minVal = sorted_input[limiteinf]\n",
    "    maxVal = sorted_input[limitesup]\n",
    "    mask = np.logical_and(mean_volume > minVal, mean_volume < maxVal)\n",
    "\n",
    "    return mask.astype(bool), limiteinf, limitesup\n"
   ]
  },
  {
   "cell_type": "code",
   "execution_count": null,
   "metadata": {
    "collapsed": false
   },
   "outputs": [],
   "source": [
    "a,b,c = my_mask(meanImg)"
   ]
  },
  {
   "cell_type": "code",
   "execution_count": null,
   "metadata": {
    "collapsed": false
   },
   "outputs": [],
   "source": [
    "print(b,c)"
   ]
  },
  {
   "cell_type": "code",
   "execution_count": null,
   "metadata": {
    "collapsed": false
   },
   "outputs": [],
   "source": [
    "print(a.shape)"
   ]
  },
  {
   "cell_type": "code",
   "execution_count": null,
   "metadata": {
    "collapsed": false
   },
   "outputs": [],
   "source": [
    "fig,axes = plt.subplots(1,3)\n",
    "axes[0].imshow(a[:,:,5], cmap='gray')\n",
    "axes[1].imshow(a[:,:,17], cmap='gray')\n",
    "axes[2].imshow(a[:,:,30], cmap='gray')"
   ]
  },
  {
   "cell_type": "code",
   "execution_count": null,
   "metadata": {
    "collapsed": true
   },
   "outputs": [],
   "source": []
  }
 ],
 "metadata": {
  "kernelspec": {
   "display_name": "Python 2",
   "language": "python",
   "name": "python2"
  },
  "language_info": {
   "codemirror_mode": {
    "name": "ipython",
    "version": 2
   },
   "file_extension": ".py",
   "mimetype": "text/x-python",
   "name": "python",
   "nbconvert_exporter": "python",
   "pygments_lexer": "ipython2",
   "version": "2.7.9"
  }
 },
 "nbformat": 4,
 "nbformat_minor": 0
}
