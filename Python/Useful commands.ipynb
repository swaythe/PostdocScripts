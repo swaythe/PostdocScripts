{
 "cells": [
  {
   "cell_type": "code",
   "execution_count": null,
   "metadata": {
    "collapsed": true
   },
   "outputs": [],
   "source": [
    "# To check if compiler is 32 bit or 64 bit.\n",
    "# Apparently the 'platform' module doesn't always report the correct thing\n",
    "import sys\n",
    "sys.maxsize > 2 ** 32"
   ]
  },
  {
   "cell_type": "code",
   "execution_count": null,
   "metadata": {
    "collapsed": true
   },
   "outputs": [],
   "source": [
    "# To see versions of specific packages (this one pertains to statsmodels)\n",
    "import scikits.statsmodels.api as sm\n",
    "sm.show_versions()"
   ]
  },
  {
   "cell_type": "code",
   "execution_count": null,
   "metadata": {
    "collapsed": true
   },
   "outputs": [],
   "source": [
    "# To get an estimate of memory usage\n",
    "from psutil import Process as pr\n",
    "p = pr(os.getpid())\n",
    "print(p.memory_info()[0] / float(2 ** 20))"
   ]
  }
 ],
 "metadata": {
  "kernelspec": {
   "display_name": "Python 2",
   "language": "python",
   "name": "python2"
  },
  "language_info": {
   "codemirror_mode": {
    "name": "ipython",
    "version": 2
   },
   "file_extension": ".py",
   "mimetype": "text/x-python",
   "name": "python",
   "nbconvert_exporter": "python",
   "pygments_lexer": "ipython2",
   "version": "2.7.9"
  }
 },
 "nbformat": 4,
 "nbformat_minor": 0
}
