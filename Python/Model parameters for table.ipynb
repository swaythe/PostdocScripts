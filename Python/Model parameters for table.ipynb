{
 "cells": [
  {
   "cell_type": "code",
   "execution_count": 57,
   "metadata": {
    "collapsed": true
   },
   "outputs": [],
   "source": [
    "import numpy as np"
   ]
  },
  {
   "cell_type": "code",
   "execution_count": 58,
   "metadata": {
    "collapsed": true
   },
   "outputs": [],
   "source": [
    "# Interaction model xs\n",
    "a = np.array([[ 0.09,  0.09,  0.17,  0.21,  0.11,  0.27,  0.19,  0.17,  0.19],\n",
    " [ 0.07,  0.03,  0.23,  0.23,  0.11,  0.31,  0.17,  0.13,  0.11],\n",
    " [ 0.11,  0.09,  0.15,  0.15,  0.13,  0.09,  0.15,  0.09,  0.25],\n",
    " [ 0.05,  0.09,  0.09,  0.11,  0.09,  0.09,  0.19,  0.11,  0.13],\n",
    " [ 0.09,  0.09,  0.07,  0.33,  0.25,  0.19,  0.09,  0.19,  0.19],\n",
    " [ 0.13,  0.03,  0.19,  0.11,  0.21,  0.39,  0.17,  0.19,  0.09],\n",
    " [ 0.11,  0.15,  0.13,  0.19,  0.43,  0.43,  0.37,  0.45,  0.23],\n",
    " [ 0.31,  0.55,  0.97,  0.63,  0.93,  0.63,  0.81,  0.83,  0.21],\n",
    " [ 0.29,  0.55,  0.97,  0.75,  1.07,  0.73,  1.05,  1.03,  0.33],\n",
    " [ 0.61,  0.47,  0.91,  0.75,  1.03,  0.75,  1.03,  0.97,  0.21],\n",
    " [ 0.05,  0.07,  0.11,  0.21,  0.11,  0.15,  0.15,  0.21,  0.17],\n",
    " [ 0.45,  0.21,  0.37,  0.55,  0.75,  0.39,  0.45,  0.39,  0.25],\n",
    " [ 0.85,  0.85,  1.63,  1.41,  1.59,  0.83,  1.47,  1.51,  0.31],\n",
    " [ 0.95,  0.87,  2.09,  1.33,  1.49,  0.91,  1.61,  1.65,  0.25],\n",
    " [ 1.13,  0.73,  2.01,  1.69,  1.75,  1.07,  1.63,  1.73,  0.35],\n",
    " [ 0.09,  0.05,  0.07,  0.17,  0.17,  0.19,  0.15,  0.11,  0.27],\n",
    " [ 0.41,  0.09,  0.41,  0.59,  1.21,  0.65,  0.73,  0.53,  1.05],\n",
    " [ 2.75,  3.19,  2.65,  1.89,  2.33,  1.57,  1.73,  1.43,  1.87],\n",
    " [ 2.85,  5.33,  3.25,  2.33,  2.39,  1.97,  2.35,  1.97,  2.11],\n",
    " [ 2.89,  7.15,  3.27,  2.31,  2.79,  1.95,  2.51,  1.89,  2.13]])"
   ]
  },
  {
   "cell_type": "code",
   "execution_count": 65,
   "metadata": {
    "collapsed": false
   },
   "outputs": [
    {
     "name": "stdout",
     "output_type": "stream",
     "text": [
      "0.11\n",
      "0.17\n",
      "0.19\n",
      "2.13\n",
      "2.51\n",
      "2.89\n"
     ]
    }
   ],
   "source": [
    "x = a[0]\n",
    "print(np.percentile(x, q=25))\n",
    "print(np.median(x))\n",
    "print(np.percentile(x, q=75))\n",
    "x = a[-1]\n",
    "print(np.percentile(x, q=25))\n",
    "print(np.median(x))\n",
    "print(np.percentile(x, q=75))"
   ]
  },
  {
   "cell_type": "code",
   "execution_count": null,
   "metadata": {
    "collapsed": false
   },
   "outputs": [],
   "source": [
    "# Interaction model As\n",
    "a = [1.52,  1.12,  1.32,  1.12,  1.12,  1.08,  1.12,  1.12,  1.06]"
   ]
  },
  {
   "cell_type": "code",
   "execution_count": null,
   "metadata": {
    "collapsed": false
   },
   "outputs": [],
   "source": [
    "print(np.percentile(a, q=25))\n",
    "print(np.median(a))\n",
    "print(np.percentile(a, q=75))"
   ]
  },
  {
   "cell_type": "code",
   "execution_count": null,
   "metadata": {
    "collapsed": true
   },
   "outputs": [],
   "source": [
    "# Interaction model TRs\n",
    "a = [0.16,  0.81,  0.22,  0.32,  0.18,  0.37,  0.29,  0.31,  0.35]"
   ]
  },
  {
   "cell_type": "code",
   "execution_count": null,
   "metadata": {
    "collapsed": false
   },
   "outputs": [],
   "source": [
    "print(np.percentile(a, q=25))\n",
    "print(np.median(a))\n",
    "print(np.percentile(a, q=75))"
   ]
  },
  {
   "cell_type": "code",
   "execution_count": null,
   "metadata": {
    "collapsed": true
   },
   "outputs": [],
   "source": [
    "# Interaction model ks\n",
    "a = [0.67,  1.53,  0.66,  0.88,  0.75,  0.87,  0.92,  0.92,  0.89]"
   ]
  },
  {
   "cell_type": "code",
   "execution_count": null,
   "metadata": {
    "collapsed": false
   },
   "outputs": [],
   "source": [
    "print(np.percentile(a, q=25))\n",
    "print(np.median(a))\n",
    "print(np.percentile(a, q=75))"
   ]
  },
  {
   "cell_type": "code",
   "execution_count": 66,
   "metadata": {
    "collapsed": true
   },
   "outputs": [],
   "source": [
    "# Coherence model xs\n",
    "a = np.array([[ 0.03,  0.11,  0.19,  0.05,  0.03,  0.23,  0.13,  0.25,  0.05],\n",
    " [ 0.21,  0.73,  1.85,  0.09,  0.07,  1.15,  2.77,  2.29,  0.07],\n",
    " [ 0.45,  1.13,  4.03,  1.85,  0.95,  2.95,  4.11,  4.27,  0.09],\n",
    " [ 2.77,  3.11,  7.47,  5.27,  2.51,  4.83,  6.07,  4.69,  5.53]])"
   ]
  },
  {
   "cell_type": "code",
   "execution_count": 69,
   "metadata": {
    "collapsed": false
   },
   "outputs": [
    {
     "name": "stdout",
     "output_type": "stream",
     "text": [
      "0.05\n",
      "0.11\n",
      "0.19\n",
      "3.11\n",
      "4.83\n",
      "5.53\n"
     ]
    }
   ],
   "source": [
    "x = a[0]\n",
    "print(np.percentile(x, q=25))\n",
    "print(np.median(x))\n",
    "print(np.percentile(x, q=75))\n",
    "x = a[-1]\n",
    "print(np.percentile(x, q=25))\n",
    "print(np.median(x))\n",
    "print(np.percentile(x, q=75))"
   ]
  },
  {
   "cell_type": "code",
   "execution_count": 70,
   "metadata": {
    "collapsed": true
   },
   "outputs": [],
   "source": [
    "# Coherence model As\n",
    "a = np.array([[ 1.08,  1.08,  1.4 ,  1.31,  1.44],\n",
    "       [ 1.08,  1.19,  1.2 ,  1.32,  1.34],\n",
    "       [ 1.08,  1.08,  1.16,  1.31,  1.31],\n",
    "       [ 1.08,  1.08,  1.08,  1.08,  1.08],\n",
    "       [ 1.04,  1.05,  1.02,  1.  ,  1.3 ],\n",
    "       [ 1.08,  1.08,  1.08,  1.12,  1.08],\n",
    "       [ 1.08,  1.08,  1.08,  1.28,  1.13],\n",
    "       [ 1.08,  1.08,  1.08,  1.08,  1.08],\n",
    "       [ 1.08,  1.08,  1.  ,  1.  ,  1.02]])"
   ]
  },
  {
   "cell_type": "code",
   "execution_count": 75,
   "metadata": {
    "collapsed": false
   },
   "outputs": [
    {
     "name": "stdout",
     "output_type": "stream",
     "text": [
      "1.08\n",
      "1.08\n",
      "1.08\n",
      "1.08\n",
      "1.13\n",
      "1.31\n"
     ]
    }
   ],
   "source": [
    "x = a[:,0]\n",
    "print(np.percentile(x, q=25))\n",
    "print(np.median(x))\n",
    "print(np.percentile(x, q=75))\n",
    "x = a[:,-1]\n",
    "print(np.percentile(x, q=25))\n",
    "print(np.median(x))\n",
    "print(np.percentile(x, q=75))"
   ]
  },
  {
   "cell_type": "code",
   "execution_count": 76,
   "metadata": {
    "collapsed": true
   },
   "outputs": [],
   "source": [
    "# Coherence model ks\n",
    "a = np.array([[ 0.09,  0.29,  0.95,  1.4 ,  1.96],\n",
    "       [ 0.09,  0.27,  1.01,  1.2 ,  1.  ],\n",
    "       [ 0.02,  0.1 ,  0.26,  0.31,  0.33],\n",
    "       [ 0.06,  0.12,  1.5 ,  0.75,  1.5 ],\n",
    "       [ 0.16,  0.53,  1.46,  0.96,  2.45],\n",
    "       [ 0.06,  0.12,  0.31,  0.31,  0.36],\n",
    "       [ 0.02,  0.12,  0.31,  0.31,  0.39],\n",
    "       [ 0.04,  0.07,  0.31,  0.4 ,  0.42],\n",
    "       [ 0.06,  0.12,  0.4 ,  0.52,  1.4 ]])"
   ]
  },
  {
   "cell_type": "code",
   "execution_count": 77,
   "metadata": {
    "collapsed": false
   },
   "outputs": [
    {
     "name": "stdout",
     "output_type": "stream",
     "text": [
      "0.04\n",
      "0.06\n",
      "0.09\n",
      "0.39\n",
      "1.0\n",
      "1.5\n"
     ]
    }
   ],
   "source": [
    "x = a[:,0]\n",
    "print(np.percentile(x, q=25))\n",
    "print(np.median(x))\n",
    "print(np.percentile(x, q=75))\n",
    "x = a[:,-1]\n",
    "print(np.percentile(x, q=25))\n",
    "print(np.median(x))\n",
    "print(np.percentile(x, q=75))"
   ]
  },
  {
   "cell_type": "code",
   "execution_count": 78,
   "metadata": {
    "collapsed": true
   },
   "outputs": [],
   "source": [
    "# Coherence model TRs\n",
    "a = np.array([[ 0.37,  0.54,  0.41,  0.61,  0.67],\n",
    "       [ 0.37,  0.35,  0.66,  0.61,  0.49],\n",
    "       [ 0.27,  0.51,  0.39,  0.26,  0.31],\n",
    "       [ 0.58,  0.56,  0.83,  0.52,  0.67],\n",
    "       [ 0.26,  0.37,  0.49,  0.28,  0.46],\n",
    "       [ 0.22,  0.27,  0.42,  0.29,  0.36],\n",
    "       [ 0.33,  0.43,  0.44,  0.12,  0.31],\n",
    "       [ 0.33,  0.28,  0.42,  0.4 ,  0.42],\n",
    "       [ 0.06,  0.14,  0.51,  0.52,  0.74]])"
   ]
  },
  {
   "cell_type": "code",
   "execution_count": 79,
   "metadata": {
    "collapsed": false
   },
   "outputs": [
    {
     "name": "stdout",
     "output_type": "stream",
     "text": [
      "0.26\n",
      "0.33\n",
      "0.37\n",
      "0.36\n",
      "0.46\n",
      "0.67\n"
     ]
    }
   ],
   "source": [
    "x = a[:,0]\n",
    "print(np.percentile(x, q=25))\n",
    "print(np.median(x))\n",
    "print(np.percentile(x, q=75))\n",
    "x = a[:,-1]\n",
    "print(np.percentile(x, q=25))\n",
    "print(np.median(x))\n",
    "print(np.percentile(x, q=75))"
   ]
  },
  {
   "cell_type": "code",
   "execution_count": 80,
   "metadata": {
    "collapsed": true
   },
   "outputs": [],
   "source": [
    "# Distance model xs\n",
    "a = np.array([[ 0.23,  0.33,  0.07,  0.07,  0.03,  0.25,  0.11,  0.15,  0.15],\n",
    " [ 1.85,  1.77,  0.89,  0.53,  0.45,  0.67,  0.93,  0.55,  0.43],\n",
    " [ 4.61,  4.21,  2.23,  1.51,  0.81,  3.95,  2.13,  3.49,  2.29],\n",
    " [ 4.79,  4.69,  2.73,  1.97,  0.83,  4.83,  2.85,  4.83,  2.57],\n",
    " [ 4.85,  4.89,  2.75,  1.93,  0.97,  4.83,  3.03,  4.69,  2.61]])"
   ]
  },
  {
   "cell_type": "code",
   "execution_count": 81,
   "metadata": {
    "collapsed": false
   },
   "outputs": [
    {
     "name": "stdout",
     "output_type": "stream",
     "text": [
      "0.07\n",
      "0.15\n",
      "0.23\n",
      "2.61\n",
      "3.03\n",
      "4.83\n"
     ]
    }
   ],
   "source": [
    "x = a[0]\n",
    "print(np.percentile(x, q=25))\n",
    "print(np.median(x))\n",
    "print(np.percentile(x, q=75))\n",
    "x = a[-1]\n",
    "print(np.percentile(x, q=25))\n",
    "print(np.median(x))\n",
    "print(np.percentile(x, q=75))"
   ]
  },
  {
   "cell_type": "code",
   "execution_count": 82,
   "metadata": {
    "collapsed": true
   },
   "outputs": [],
   "source": [
    "# Distance model As\n",
    "a = np.array([[ 1.02,  1.05,  1.1 ,  1.12],\n",
    "       [ 1.04,  1.05,  1.05,  1.05],\n",
    "       [ 1.08,  1.13,  1.08,  1.23],\n",
    "       [ 1.08,  1.08,  1.08,  1.2 ],\n",
    "       [ 1.08,  1.08,  1.08,  1.28],\n",
    "       [ 1.08,  1.08,  1.08,  1.2 ],\n",
    "       [ 1.08,  1.08,  1.08,  1.13],\n",
    "       [ 1.08,  1.08,  1.08,  1.08],\n",
    "       [ 1.08,  1.08,  1.08,  1.2 ]])"
   ]
  },
  {
   "cell_type": "code",
   "execution_count": 83,
   "metadata": {
    "collapsed": false
   },
   "outputs": [
    {
     "name": "stdout",
     "output_type": "stream",
     "text": [
      "1.08\n",
      "1.08\n",
      "1.08\n",
      "1.12\n",
      "1.2\n",
      "1.2\n"
     ]
    }
   ],
   "source": [
    "x = a[:,0]\n",
    "print(np.percentile(x, q=25))\n",
    "print(np.median(x))\n",
    "print(np.percentile(x, q=75))\n",
    "x = a[:,-1]\n",
    "print(np.percentile(x, q=25))\n",
    "print(np.median(x))\n",
    "print(np.percentile(x, q=75))"
   ]
  },
  {
   "cell_type": "code",
   "execution_count": 84,
   "metadata": {
    "collapsed": true
   },
   "outputs": [],
   "source": [
    "# Distance model ks\n",
    "a = np.array([[ 0.03,  0.09,  0.18,  0.43],\n",
    "       [ 0.04,  0.19,  0.31,  0.46],\n",
    "       [ 0.06,  0.28,  0.53,  0.71],\n",
    "       [ 0.09,  0.35,  0.77,  1.42],\n",
    "       [ 0.16,  0.94,  1.77,  2.14],\n",
    "       [ 0.02,  0.13,  0.21,  0.42],\n",
    "       [ 0.06,  0.35,  0.7 ,  0.78],\n",
    "       [ 0.02,  0.18,  0.41,  0.42],\n",
    "       [ 0.06,  0.09,  0.09,  0.7 ]])"
   ]
  },
  {
   "cell_type": "code",
   "execution_count": 85,
   "metadata": {
    "collapsed": false
   },
   "outputs": [
    {
     "name": "stdout",
     "output_type": "stream",
     "text": [
      "0.03\n",
      "0.06\n",
      "0.06\n",
      "0.43\n",
      "0.7\n",
      "0.78\n"
     ]
    }
   ],
   "source": [
    "x = a[:,0]\n",
    "print(np.percentile(x, q=25))\n",
    "print(np.median(x))\n",
    "print(np.percentile(x, q=75))\n",
    "x = a[:,-1]\n",
    "print(np.percentile(x, q=25))\n",
    "print(np.median(x))\n",
    "print(np.percentile(x, q=75))"
   ]
  },
  {
   "cell_type": "code",
   "execution_count": 86,
   "metadata": {
    "collapsed": true
   },
   "outputs": [],
   "source": [
    "# Distance model TRs\n",
    "a = np.array([[ 1.16,  1.15,  1.18,  0.4 ],\n",
    "       [ 0.99,  0.97,  0.89,  0.49],\n",
    "       [ 0.85,  0.69,  0.56,  0.2 ],\n",
    "       [ 0.26,  0.36,  0.4 ,  0.37],\n",
    "       [ 0.2 ,  0.3 ,  0.38,  0.05],\n",
    "       [ 0.28,  0.36,  0.47,  0.34],\n",
    "       [ 0.27,  0.43,  0.53,  0.29],\n",
    "       [ 0.22,  0.34,  0.49,  0.39],\n",
    "       [ 0.31,  0.31,  0.4 ,  0.19]])"
   ]
  },
  {
   "cell_type": "code",
   "execution_count": 87,
   "metadata": {
    "collapsed": false
   },
   "outputs": [
    {
     "name": "stdout",
     "output_type": "stream",
     "text": [
      "0.26\n",
      "0.28\n",
      "0.85\n",
      "0.2\n",
      "0.34\n",
      "0.39\n"
     ]
    }
   ],
   "source": [
    "x = a[:,0]\n",
    "print(np.percentile(x, q=25))\n",
    "print(np.median(x))\n",
    "print(np.percentile(x, q=75))\n",
    "x = a[:,-1]\n",
    "print(np.percentile(x, q=25))\n",
    "print(np.median(x))\n",
    "print(np.percentile(x, q=75))"
   ]
  },
  {
   "cell_type": "code",
   "execution_count": null,
   "metadata": {
    "collapsed": true
   },
   "outputs": [],
   "source": []
  }
 ],
 "metadata": {
  "kernelspec": {
   "display_name": "Python [Root]",
   "language": "python",
   "name": "Python [Root]"
  },
  "language_info": {
   "codemirror_mode": {
    "name": "ipython",
    "version": 3
   },
   "file_extension": ".py",
   "mimetype": "text/x-python",
   "name": "python",
   "nbconvert_exporter": "python",
   "pygments_lexer": "ipython3",
   "version": "3.5.2"
  }
 },
 "nbformat": 4,
 "nbformat_minor": 0
}
