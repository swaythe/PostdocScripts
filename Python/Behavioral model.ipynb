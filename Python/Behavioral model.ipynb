{
 "cells": [
  {
   "cell_type": "code",
   "execution_count": null,
   "metadata": {
    "collapsed": false
   },
   "outputs": [],
   "source": [
    "% matplotlib inline\n",
    "import numpy as np\n",
    "import matplotlib.pyplot as plt\n",
    "import pandas as pd\n",
    "from math import factorial as fact"
   ]
  },
  {
   "cell_type": "code",
   "execution_count": null,
   "metadata": {
    "collapsed": true
   },
   "outputs": [],
   "source": [
    "# Parameters to fit:\n",
    "# A: Boundary\n",
    "# x: Stimulus strength\n",
    "# k: Proportionality constant (Stim. str. = kx)\n",
    "# tR: Residual time\n",
    "\n",
    "# Equations to fit for each stimulus strength:\n",
    "# pC = 1 / (1+exp(-2*A*k*abs(x)))\n",
    "# mRT = A / (k*x) * tanh(A*k*x) + tR\n",
    "\n",
    "# We can get approximate values for A, k and tR from Palmer et. al. '05\n",
    "# Ranges of parameters to start with:\n",
    "# A: 0.5 - 1\n",
    "# k: 5 - 40\n",
    "# tR: 0.25 - 0.5 (in seconds)\n",
    "# x: 0 - 1\n",
    "\n",
    "# To identify best fit, calculate the likelihood of predicted pC and mRT and find the maximum likelihood.\n",
    "\n",
    "# Likelihood of pC follows a binomial distribution\n",
    "# Lp = n! / (r!(n-r)! * pC(x)^r * (1-pC(x))^(n-r), where\n",
    "# n = # trials, r = # required correct\n",
    "\n",
    "# Likelihood of mRT follows a Gaussian distribution\n",
    "# Lrt = 1 / (SDrt * (sqrt(2*pi))) * e^-((mRT(x) - oRT(x)) / SDrt)^2 * 1/2, where\n",
    "# oRT = observed mRT, mRT = predicted mRT, SDrt = SD of predicted mRT\n",
    "# VARrt = VARtd + VARtr, where\n",
    "# VARtd = variance in decision time, VARtr = variance in residual time. Thus,\n",
    "# VARrt = (A * tanh(A*k*x) - A*k*x * sech(A*k*x)) / (k*x)^3 + (0.1 * tR)^2\n",
    "\n",
    "# Final fit measure is the log likelihood, which is the sum of the likelihoods of accuracy and mean RT, \n",
    "# over all combinations of coherence and distance\n",
    "# Lprt = sigma(x)(ln(Lp(s)) + ln(Lrt(x)))\n",
    "\n",
    "# The first pass of the model will be to estimate values of x without any assumptions about stimulus relationtips.\n",
    "# The stopping point will be the point of least error."
   ]
  },
  {
   "cell_type": "code",
   "execution_count": null,
   "metadata": {
    "collapsed": false
   },
   "outputs": [],
   "source": [
    "# Initialize A, k and tR parameters\n",
    "A = np.linspace(1, 5, 10)\n",
    "k = np.linspace(1, 15, 20)\n",
    "tR = np.linspace(0.25, 1, 10)\n",
    "\n",
    "As, ks, tRs = np.meshgrid(A, k, tR)\n",
    "As = As.flatten()\n",
    "ks = ks.flatten()\n",
    "tRs = tRs.flatten()\n",
    "\n",
    "# This is the overall number of permutations of A, k and tR being performed\n",
    "nPar = len(As)\n",
    "\n",
    "# Initialize stimulus strength parameter\n",
    "x = np.linspace(0.001,0.2,15)\n",
    "\n",
    "# Initialize the array that holds likelihood values\n",
    "# Error = |Actual PC - Expected PC| + |Actual RT - Expected RT|\n",
    "errs = np.ones((nPar, len(x), 20, 9)) * -9"
   ]
  },
  {
   "cell_type": "code",
   "execution_count": null,
   "metadata": {
    "collapsed": false
   },
   "outputs": [],
   "source": [
    "print(A)\n",
    "print(k)\n",
    "print(tR)\n",
    "print(x)"
   ]
  },
  {
   "cell_type": "code",
   "execution_count": null,
   "metadata": {
    "collapsed": true
   },
   "outputs": [],
   "source": [
    "# List subjects to fit\n",
    "subs = ['Sub01', 'Sub02', 'Sub04', 'Sub05', 'Sub06', 'Sub08', 'Sub10', 'Sub11', 'Sub13']\n",
    "nSub = len(subs)"
   ]
  },
  {
   "cell_type": "code",
   "execution_count": null,
   "metadata": {
    "collapsed": false
   },
   "outputs": [],
   "source": [
    "# Initialize arrays to hold PC, mean and SD of RT, and # trials \n",
    "# for each coherence-distanct combination\n",
    "# These values are obtained from the .csv files\n",
    "pCs = np.zeros((20, nSub))\n",
    "mRTs = np.zeros((20, nSub))\n",
    "sdRTs = np.zeros((20, nSub))\n",
    "Ns = np.zeros((20, nSub))\n",
    "\n",
    "# Initialise a variable to hold # correct trials\n",
    "# This will be computed from Ns and pCs\n",
    "Rs = np.zeros((20, nSub))"
   ]
  },
  {
   "cell_type": "code",
   "execution_count": null,
   "metadata": {
    "collapsed": false
   },
   "outputs": [],
   "source": [
    "# Extract behavioral data (PC, mean and SD of RT, # trials) from csv files\n",
    "for si in range(nSub):\n",
    "    csvFile = '../Data/Behavior/' + subs[si] + '_behavData.csv'\n",
    "    behavData = pd.read_csv(csvFile, header=None)\n",
    "    \n",
    "    # Split the file in PC, mean RT and SD RT\n",
    "    # Flatten each subject's values for ease of programming\n",
    "    pCs[:,si] = np.array(behavData[0:4]).flatten()\n",
    "    mRTs[:,si] = np.array(behavData[4:8]).flatten()\n",
    "    sdRTs[:,si] = np.array(behavData[8:12]).flatten()\n",
    "    Ns[:,si] = np.array(behavData[12:]).flatten()\n",
    "    Rs[:,si] = np.round(Ns[:,si] * pCs[:,si])"
   ]
  },
  {
   "cell_type": "code",
   "execution_count": null,
   "metadata": {
    "collapsed": false
   },
   "outputs": [],
   "source": [
    "print(Rs[:,0])"
   ]
  },
  {
   "cell_type": "code",
   "execution_count": null,
   "metadata": {
    "collapsed": false
   },
   "outputs": [],
   "source": [
    "epc = np.ones((nPar, len(x), 20, 9)) * -9\n",
    "ert = np.ones((nPar, len(x), 20, 9)) * -9\n",
    "Lp = np.ones(20) * -9\n",
    "Lrt = np.ones(20) * -9\n",
    "\n",
    "for si in range(1):\n",
    "    for pi in xrange(nPar):\n",
    "        for cdi in range(20):\n",
    "            # Calculate expected accuracy for each coherence-distance combination\n",
    "            epc = 1 / (1 + np.exp(-2 * As[pi] * ks[pi] * abs(x)))\n",
    "            #print(epc)\n",
    "            # Calculate likelihood of accuracy for this CD combination\n",
    "            Lp[cdi] = factorial(\n",
    "            \n",
    "            # Calculate expected mean RT for each coherence-distance combination\n",
    "            ert = As[pi] / (ks[pi] * x) * np.tanh(As[pi] * ks[pi] * x) + tRs[pi] \n",
    "            #print(ert)\n",
    "            errs[pi,:,cdi,si] = abs(epc - pCs[cdi,si]) + abs(ert - mRTs[cdi,si])\n",
    "            #print(pCs[cdi,si],mRTs[cdi,si],errs[pi,:,cdi,si])"
   ]
  },
  {
   "cell_type": "code",
   "execution_count": 1,
   "metadata": {
    "collapsed": false
   },
   "outputs": [
    {
     "name": "stdout",
     "output_type": "stream",
     "text": [
      "Object `fact` not found.\n"
     ]
    }
   ],
   "source": []
  },
  {
   "cell_type": "code",
   "execution_count": null,
   "metadata": {
    "collapsed": false
   },
   "outputs": [],
   "source": [
    "plt.plot(errs[:,:,:,0].flatten())"
   ]
  },
  {
   "cell_type": "code",
   "execution_count": null,
   "metadata": {
    "collapsed": false
   },
   "outputs": [],
   "source": [
    "for si in range(1):\n",
    "    plt.figure()\n",
    "    for cdi in range(20):\n",
    "        plt.subplot(4,5,cdi+1)\n",
    "        plt.contourf(errs[...,cdi,si])"
   ]
  },
  {
   "cell_type": "code",
   "execution_count": null,
   "metadata": {
    "collapsed": false
   },
   "outputs": [],
   "source": [
    "np.min(errs[...,0])"
   ]
  },
  {
   "cell_type": "code",
   "execution_count": null,
   "metadata": {
    "collapsed": false
   },
   "outputs": [],
   "source": [
    "plt.contourf(errs[...,4])"
   ]
  },
  {
   "cell_type": "code",
   "execution_count": null,
   "metadata": {
    "collapsed": false
   },
   "outputs": [],
   "source": [
    "plt.contourf(errs[...,18])"
   ]
  },
  {
   "cell_type": "code",
   "execution_count": null,
   "metadata": {
    "collapsed": false
   },
   "outputs": [],
   "source": [
    "sortedParams.shape"
   ]
  },
  {
   "cell_type": "code",
   "execution_count": null,
   "metadata": {
    "collapsed": false
   },
   "outputs": [],
   "source": [
    "sortedParams = np.zeros((len(As)*len(x),5,20))\n",
    "\n",
    "for i in range(20):\n",
    "    flatErrs = np.ravel(errs[...,i])\n",
    "    idArr = np.argsort(flatErrs)\n",
    "    sortedParams[:,0,i] = flatErrs[idArr]\n",
    "    sArr = np.unravel_index(idArr, (len(As),len(x)))\n",
    "    sortedParams[:,1,i] = As[sArr[0][:]]\n",
    "    sortedParams[:,2,i] = ks[sArr[0][:]]\n",
    "    sortedParams[:,3,i] = tRs[sArr[0][:]]\n",
    "    sortedParams[:,4,i] = x[sArr[1][:]]"
   ]
  },
  {
   "cell_type": "code",
   "execution_count": null,
   "metadata": {
    "collapsed": false
   },
   "outputs": [],
   "source": [
    "plt.subplot(1,5,1)\n",
    "plt.imshow(sortedParams[0:19,0,:])\n",
    "plt.title('Error')\n",
    "plt.subplot(1,5,2)\n",
    "plt.imshow(sortedParams[0:19,1,:])\n",
    "plt.title('A')\n",
    "plt.subplot(1,5,3)\n",
    "plt.imshow(sortedParams[0:19,2,:])\n",
    "plt.title('k')\n",
    "plt.subplot(1,5,4)\n",
    "plt.imshow(sortedParams[0:19,3,:])\n",
    "plt.title('tR')\n",
    "plt.subplot(1,5,5)\n",
    "plt.imshow(sortedParams[0:19,4,:])\n",
    "plt.title('x')"
   ]
  },
  {
   "cell_type": "code",
   "execution_count": null,
   "metadata": {
    "collapsed": false
   },
   "outputs": [],
   "source": [
    "plt.subplot(1,5,1)\n",
    "for i in range(5):\n",
    "    plt.plot(sortedParams[i,0,:],'o-')\n",
    "plt.title('Error')\n",
    "plt.subplot(1,5,2)\n",
    "for i in range(5):\n",
    "    plt.plot(sortedParams[i,1,:],'o-')\n",
    "plt.title('A')\n",
    "plt.subplot(1,5,3)\n",
    "for i in range(5):\n",
    "    plt.plot(sortedParams[i,2,:],'o-')\n",
    "plt.title('k')\n",
    "plt.subplot(1,5,4)\n",
    "for i in range(5):\n",
    "    plt.plot(sortedParams[i,3,:],'o-')\n",
    "plt.title('tR')\n",
    "plt.subplot(1,5,5)\n",
    "for i in range(5):\n",
    "    plt.plot(sortedParams[i,4,:],'o-')\n",
    "plt.title('x')"
   ]
  },
  {
   "cell_type": "code",
   "execution_count": null,
   "metadata": {
    "collapsed": false
   },
   "outputs": [],
   "source": [
    "np.max(errs)"
   ]
  },
  {
   "cell_type": "code",
   "execution_count": null,
   "metadata": {
    "collapsed": true
   },
   "outputs": [],
   "source": []
  }
 ],
 "metadata": {
  "kernelspec": {
   "display_name": "Python 2",
   "language": "python",
   "name": "python2"
  },
  "language_info": {
   "codemirror_mode": {
    "name": "ipython",
    "version": 2
   },
   "file_extension": ".py",
   "mimetype": "text/x-python",
   "name": "python",
   "nbconvert_exporter": "python",
   "pygments_lexer": "ipython2",
   "version": "2.7.9"
  }
 },
 "nbformat": 4,
 "nbformat_minor": 0
}
