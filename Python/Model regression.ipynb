{
 "cells": [
  {
   "cell_type": "code",
   "execution_count": 1,
   "metadata": {
    "collapsed": false
   },
   "outputs": [],
   "source": [
    "from scipy.io import loadmat as lm\n",
    "import statsmodels.formula.api as sf\n",
    "import statsmodels.api as sm\n",
    "from pandas import DataFrame as df\n",
    "from pandas import read_csv\n",
    "import numpy as np\n",
    "from scipy import stats\n",
    "import matplotlib.pyplot as plt\n",
    "% matplotlib inline"
   ]
  },
  {
   "cell_type": "code",
   "execution_count": 2,
   "metadata": {
    "collapsed": true
   },
   "outputs": [],
   "source": [
    "subs = ['Sub01', 'Sub02', 'Sub04', 'Sub05', 'Sub06', 'Sub08', 'Sub10', 'Sub11', 'Sub13']\n",
    "nSub = len(subs)"
   ]
  },
  {
   "cell_type": "code",
   "execution_count": 3,
   "metadata": {
    "collapsed": false
   },
   "outputs": [],
   "source": [
    "# Load the best x values for each subject\n",
    "#subXs_allCD = np.array(read_csv('SubXs_all.csv', header=None))\n",
    "subXs_allCD_posParam = np.array(read_csv('SubXs_all_posParam.csv', header=None))\n",
    "#subXs_no0CD = np.array(read_csv('SubXs_noZeroCD.csv', header=None))\n",
    "#subXs_no0CD_posParam = np.array(read_csv('SubXs_noZeroCD_posParam.csv', header=None))"
   ]
  },
  {
   "cell_type": "code",
   "execution_count": null,
   "metadata": {
    "collapsed": false
   },
   "outputs": [],
   "source": [
    "# Create regressors for distance and coherence for each subject.\n",
    "# To do this, first get the values from the DirCoh<sub>.mat files.\n",
    "\n",
    "dreg1 = np.zeros((20,nSub))\n",
    "creg1 = np.zeros((20,nSub))\n",
    "params1 = np.zeros((3,nSub))\n",
    "pvals1 = np.zeros((3,nSub))\n",
    "gof1  = np.zeros((2,nSub))\n",
    "\n",
    "for si in range(nSub):\n",
    "    cdmat = lm('..\\\\Data\\\\Behavior\\\\DirCoh' + subs[si] + '.mat')\n",
    "    # In the DirCoh matrix, the first column is distance and second is coherence\n",
    "    dist = np.unique(np.abs(cdmat['DirCoh'][:,0]))\n",
    "    coh = np.unique(cdmat['DirCoh'][:,1])\n",
    "    # In the x arrays, distance goes through all values before coherence changes\n",
    "    temp = np.ones((4,5)) * dist[0:5]/dist[4]\n",
    "    dreg1[:,si] = temp.flatten()\n",
    "    temp = np.ones((5,4)) * coh\n",
    "    creg1[:,si] = temp.T.flatten()\n",
    "    \n",
    "    data = df({'coh' : creg1[:,si],\n",
    "               'dist' : dreg1[:,si],\n",
    "               'x' : subXs_allCD[:,si]})\n",
    "    \n",
    "    est = sf.ols(formula = 'x ~ coh * dist', data = data).fit()\n",
    "    \n",
    "    # Save the values of betas and their p-values\n",
    "    params1[0,si] = est.params['coh']\n",
    "    params1[1,si] = est.params['dist']\n",
    "    params1[2,si] = est.params['coh:dist']\n",
    "    \n",
    "    pvals1[0,si] = est.pvalues['coh']\n",
    "    pvals1[1,si] = est.pvalues['dist']\n",
    "    pvals1[2,si] = est.pvalues['coh:dist']\n",
    "    \n",
    "    gof1[0,si] = est.rsquared\n",
    "    gof1[1,si] = est.fvalue"
   ]
  },
  {
   "cell_type": "code",
   "execution_count": null,
   "metadata": {
    "collapsed": true
   },
   "outputs": [],
   "source": [
    "import matplotlib.lines as ln"
   ]
  },
  {
   "cell_type": "code",
   "execution_count": null,
   "metadata": {
    "collapsed": false
   },
   "outputs": [],
   "source": [
    "Y = subXs_allCD[:,0]\n",
    "X1 = creg1[:,0]\n",
    "X2 = dreg1[:,0]\n",
    "plt.plot(X1, Y, '.b')\n",
    "plt.plot(X2, Y, '.r')\n",
    "plt.plot(est.params['Intercept']+X1*est.params['coh']+X2*est.params['dist']+X1*X2*est.params[3], 'b.-')\n",
    "\n",
    "plt.axis([-0.5, 1.5, -0.5, 2.5])\n",
    "ln.Line2D(xdata = est.params['Intercept']+Y*est.params['coh'], ydata = Y, color = 'b')\n",
    "ln.Line2D(xdata = est.params['Intercept']+Y*est.params['dist'], ydata = Y, color = 'r')"
   ]
  },
  {
   "cell_type": "code",
   "execution_count": 4,
   "metadata": {
    "collapsed": true
   },
   "outputs": [],
   "source": [
    "# Create regressors for distance and coherence for each subject.\n",
    "# To do this, first get the values from the DirCoh<sub>.mat files.\n",
    "\n",
    "dreg5 = np.zeros((20,nSub))\n",
    "creg5 = np.zeros((20,nSub))\n",
    "params5 = np.zeros((3,nSub))\n",
    "pvals5 = np.zeros((3,nSub))\n",
    "gof5 = np.zeros((2,nSub))\n",
    "\n",
    "for si in range(nSub):\n",
    "    cdmat = lm('..\\\\Data\\\\Behavior\\\\DirCoh' + subs[si] + '.mat')\n",
    "    # In the DirCoh matrix, the first column is distance and second is coherence\n",
    "    dist = np.unique(np.abs(cdmat['DirCoh'][:,0]))\n",
    "    coh = np.unique(cdmat['DirCoh'][:,1])\n",
    "    # In the x arrays, distance goes through all values before coherence changes\n",
    "    temp = np.ones((4,5)) * dist[0:5]/dist[4]\n",
    "    dreg5[:,si] = temp.flatten()\n",
    "    temp = np.ones((5,4)) * coh\n",
    "    creg5[:,si] = temp.T.flatten()\n",
    "    \n",
    "    data = df({'coh' : creg5[:,si],\n",
    "               'dist' : dreg5[:,si],\n",
    "               'x' : subXs_allCD_posParam[:,si]})\n",
    "    \n",
    "    est = sf.ols(formula = 'x ~ coh * dist', data = data).fit()\n",
    "    \n",
    "    # Save the values of betas and their p-values\n",
    "    params5[0,si] = est.params['coh']\n",
    "    params5[1,si] = est.params['dist']\n",
    "    params5[2,si] = est.params['coh:dist']\n",
    "    \n",
    "    pvals5[0,si] = est.pvalues['coh']\n",
    "    pvals5[1,si] = est.pvalues['dist']\n",
    "    pvals5[2,si] = est.pvalues['coh:dist']\n",
    "    \n",
    "    gof5[0,si] = est.rsquared\n",
    "    gof5[1,si] = est.fvalue"
   ]
  },
  {
   "cell_type": "code",
   "execution_count": null,
   "metadata": {
    "collapsed": false
   },
   "outputs": [],
   "source": [
    "# Create regressors for distance and coherence for each subject.\n",
    "# To do this, first get the values from the DirCoh<sub>.mat files.\n",
    "\n",
    "dreg2 = np.zeros((12,nSub))\n",
    "creg2 = np.zeros((12,nSub))\n",
    "params2 = np.zeros((3,nSub))\n",
    "pvals2 = np.zeros((3,nSub))\n",
    "gof2 = np.zeros((2,nSub))\n",
    "\n",
    "for si in range(nSub):\n",
    "    cdmat = lm('..\\\\Data\\\\Behavior\\\\DirCoh' + subs[si] + '.mat')\n",
    "    # In the DirCoh matrix, the first column is distance and second is coherence\n",
    "    dist = np.unique(np.abs(cdmat['DirCoh'][:,0]))\n",
    "    coh = np.unique(cdmat['DirCoh'][:,1])\n",
    "    # In the x arrays, distance goes through all values before coherence changes\n",
    "    temp = np.ones((3,4)) * dist[1:5]/dist[4]\n",
    "    dreg2[:,si] = temp.flatten()\n",
    "    temp = np.ones((4,3)) * coh[1:]\n",
    "    creg2[:,si] = temp.T.flatten()\n",
    "    \n",
    "    data = df({'coh' : creg2[:,si],\n",
    "               'dist' : dreg2[:,si],\n",
    "               'x' : subXs_no0CD[:,si]})\n",
    "    \n",
    "    est = sf.ols(formula = 'x ~ coh * dist', data = data).fit()\n",
    "    \n",
    "    # Save the values of betas and their p-values\n",
    "    params2[0,si] = est.params['coh']\n",
    "    params2[1,si] = est.params['dist']\n",
    "    params2[2,si] = est.params['coh:dist']\n",
    "    \n",
    "    pvals2[0,si] = est.pvalues['coh']\n",
    "    pvals2[1,si] = est.pvalues['dist']\n",
    "    pvals2[2,si] = est.pvalues['coh:dist']\n",
    "    \n",
    "    gof2[0,si] = est.rsquared\n",
    "    gof2[1,si] = est.fvalue"
   ]
  },
  {
   "cell_type": "code",
   "execution_count": null,
   "metadata": {
    "collapsed": false
   },
   "outputs": [],
   "source": [
    "# Create regressors for distance and coherence for each subject.\n",
    "# To do this, first get the values from the DirCoh<sub>.mat files.\n",
    "\n",
    "dreg3 = np.zeros((12,nSub))\n",
    "creg3 = np.zeros((12,nSub))\n",
    "params3 = np.zeros((3,nSub))\n",
    "pvals3 = np.zeros((3,nSub))\n",
    "gof3 = np.zeros((2,nSub))\n",
    "\n",
    "for si in range(nSub):\n",
    "    cdmat = lm('..\\\\Data\\\\Behavior\\\\DirCoh' + subs[si] + '.mat')\n",
    "    # In the DirCoh matrix, the first column is distance and second is coherence\n",
    "    dist = np.unique(np.abs(cdmat['DirCoh'][:,0]))[1:5]\n",
    "    coh = np.unique(cdmat['DirCoh'][:,1])[1:]\n",
    "    # In the x arrays, distance goes through all values before coherence changes\n",
    "    temp = np.ones((3,4)) * (dist - dist[0])\n",
    "    temp /= dist[-1]\n",
    "    dreg3[:,si] = temp.flatten()\n",
    "    temp = np.ones((4,3)) * (coh - coh[0])\n",
    "    temp /= coh[-1]\n",
    "    creg3[:,si] = temp.T.flatten()\n",
    "    \n",
    "    data = df({'coh' : creg3[:,si],\n",
    "               'dist' : dreg3[:,si],\n",
    "               'x' : subXs_no0CD[:,si]})\n",
    "    \n",
    "    est = sf.ols(formula = 'x ~ coh * dist', data = data).fit()\n",
    "    \n",
    "    # Save the values of betas and their p-values\n",
    "    params3[0,si] = est.params['coh']\n",
    "    params3[1,si] = est.params['dist']\n",
    "    params3[2,si] = est.params['coh:dist']\n",
    "    \n",
    "    pvals3[0,si] = est.pvalues['coh']\n",
    "    pvals3[1,si] = est.pvalues['dist']\n",
    "    pvals3[2,si] = est.pvalues['coh:dist']\n",
    "    \n",
    "    gof3[0,si] = est.rsquared\n",
    "    gof3[1,si] = est.fvalue"
   ]
  },
  {
   "cell_type": "code",
   "execution_count": null,
   "metadata": {
    "collapsed": false
   },
   "outputs": [],
   "source": [
    "# Create regressors for distance and coherence for each subject.\n",
    "# To do this, first get the values from the DirCoh<sub>.mat files.\n",
    "\n",
    "dreg4 = np.zeros((12,nSub))\n",
    "creg4 = np.zeros((12,nSub))\n",
    "params4 = np.zeros((3,nSub))\n",
    "pvals4 = np.zeros((3,nSub))\n",
    "gof4 = np.zeros((2,nSub))\n",
    "\n",
    "for si in range(nSub):\n",
    "    cdmat = lm('..\\\\Data\\\\Behavior\\\\DirCoh' + subs[si] + '.mat')\n",
    "    # In the DirCoh matrix, the first column is distance and second is coherence\n",
    "    dist = np.unique(np.abs(cdmat['DirCoh'][:,0]))\n",
    "    coh = np.unique(cdmat['DirCoh'][:,1])\n",
    "    # In the x arrays, distance goes through all values before coherence changes\n",
    "    temp = np.ones((3,4)) * dist[1:5]/dist[4]\n",
    "    dreg4[:,si] = temp.flatten()\n",
    "    temp = np.ones((4,3)) * coh[1:]\n",
    "    creg4[:,si] = temp.T.flatten()\n",
    "    \n",
    "    data = df({'coh' : creg4[:,si],\n",
    "               'dist' : dreg4[:,si],\n",
    "               'x' : subXs_no0CD_posParam[:,si]})\n",
    "    \n",
    "    est = sf.ols(formula = 'x ~ coh * dist', data = data).fit()\n",
    "    \n",
    "    # Save the values of betas and their p-values\n",
    "    params4[0,si] = est.params['coh']\n",
    "    params4[1,si] = est.params['dist']\n",
    "    params4[2,si] = est.params['coh:dist']\n",
    "    \n",
    "    pvals4[0,si] = est.pvalues['coh']\n",
    "    pvals4[1,si] = est.pvalues['dist']\n",
    "    pvals4[2,si] = est.pvalues['coh:dist']\n",
    "    \n",
    "    gof4[0,si] = est.rsquared\n",
    "    gof4[1,si] = est.fvalue"
   ]
  },
  {
   "cell_type": "code",
   "execution_count": null,
   "metadata": {
    "collapsed": false
   },
   "outputs": [],
   "source": [
    "# Plot the X-Y relationships in each of the cases\n",
    "ctr = 1\n",
    "for si in range(9):\n",
    "    plt.figure()\n",
    "    plt.subplot(1, 4, ctr)\n",
    "    #plt.plot(creg1[:,si], subXs_allCD[:,si], 'r.')\n",
    "    plt.plot(dreg1[:,si], subXs_allCD[:,si], 'b.')\n",
    "    plt.axis('equal')\n",
    "    ctr += 1\n",
    "    \n",
    "    plt.subplot(1, 4, ctr)\n",
    "    #plt.plot(creg2[:,si], subXs_no0CD[:,si], 'r.')\n",
    "    plt.plot(dreg2[:,si], subXs_no0CD[:,si], 'b.')\n",
    "    plt.axis('equal')\n",
    "    ctr += 1\n",
    "    \n",
    "    plt.subplot(1, 4, ctr)\n",
    "    #plt.plot(creg3[:,si], subXs_no0CD[:,si], 'r.')\n",
    "    plt.plot(dreg3[:,si], subXs_no0CD[:,si], 'b.')\n",
    "    plt.axis('equal')\n",
    "    ctr += 1\n",
    "    \n",
    "    plt.subplot(1, 4, ctr)\n",
    "    \n",
    "    #plt.plot(creg4[:,si], subXs_no0CD_posParam[:,si], 'r.')\n",
    "    plt.plot(dreg4[:,si], subXs_no0CD_posParam[:,si], 'b.')\n",
    "    plt.axis('equal')\n",
    "    ctr = 1\n",
    "    "
   ]
  },
  {
   "cell_type": "code",
   "execution_count": null,
   "metadata": {
    "collapsed": false
   },
   "outputs": [],
   "source": [
    "print(stats.kstest(np.array([0, 0.12, 0.25, 1]), 'norm'))\n",
    "print(stats.kstest(np.array([0, 0.12, 0.25, 1]) - np.mean(np.array([0, 0.12, 0.25, 1])), 'norm'))\n",
    "print(stats.kstest(np.array([0, 12, 25, 100]), 'norm'))\n",
    "print(stats.kstest(np.array([0, 15, 45, 75, 90])/90, 'norm'))\n",
    "print(stats.kstest(np.array([0, 15, 45, 75, 90])/90 - np.mean(np.array([0, 15, 45, 75, 90])/90), 'norm'))\n",
    "print(stats.kstest(np.array([0, 15, 45, 75, 90]), 'norm'))\n",
    "print(stats.kstest(np.array([-0.3439, -0.2957, -0.2232, 0.8628]), 'norm'))\n",
    "print(stats.kstest(subXs_allCD[:,0], 'norm'))\n",
    "print(stats.kstest(subXs_allCD[:,0] / np.std(subXs_allCD[:,0]), 'norm'))"
   ]
  },
  {
   "cell_type": "code",
   "execution_count": null,
   "metadata": {
    "collapsed": false
   },
   "outputs": [],
   "source": [
    "rhead = ['Coh:', 'Dist:', 'Ixn:']\n",
    "\n",
    "for si in range(nSub):\n",
    "    print(subs[si])\n",
    "    for ci in range(3):\n",
    "        print(rhead[ci], round(params1[ci,si],ndigits=2), '|', round(pvals1[ci,si],ndigits=2), '|||', \n",
    "             round(params5[ci,si],ndigits=2), '|', round(pvals5[ci,si],ndigits=2), '|||', \n",
    "             round(params2[ci,si],ndigits=2), '|', round(pvals2[ci,si],ndigits=2), '|||',\n",
    "             round(params3[ci,si],ndigits=2), '|', round(pvals3[ci,si],ndigits=2), '|||',\n",
    "             round(params4[ci,si],ndigits=2), '|', round(pvals4[ci,si],ndigits=2))\n",
    "    print"
   ]
  },
  {
   "cell_type": "code",
   "execution_count": null,
   "metadata": {
    "collapsed": false
   },
   "outputs": [],
   "source": [
    "subXs_allCD[:,5].reshape((4,5))"
   ]
  },
  {
   "cell_type": "code",
   "execution_count": 8,
   "metadata": {
    "collapsed": false
   },
   "outputs": [
    {
     "data": {
      "text/plain": [
       "[array([[ 0.09,  0.06,  0.19,  0.21,  0.11,  0.26,  0.19,  0.16,  0.19],\n",
       "        [ 0.06,  0.04,  0.24,  0.24,  0.11,  0.31,  0.16,  0.14,  0.11],\n",
       "        [ 0.11,  0.06,  0.14,  0.16,  0.14,  0.09,  0.14,  0.09,  0.26],\n",
       "        [ 0.06,  0.06,  0.09,  0.11,  0.09,  0.09,  0.19,  0.11,  0.14],\n",
       "        [ 0.09,  0.06,  0.09,  0.34,  0.24,  0.19,  0.09,  0.19,  0.19],\n",
       "        [ 0.14,  0.04,  0.19,  0.11,  0.21,  0.39,  0.19,  0.19,  0.09],\n",
       "        [ 0.11,  0.11,  0.14,  0.19,  0.44,  0.44,  0.36,  0.44,  0.24],\n",
       "        [ 0.31,  0.41,  0.96,  0.64,  0.94,  0.64,  0.81,  0.84,  0.21],\n",
       "        [ 0.29,  0.41,  0.99,  0.76,  1.06,  0.71,  1.04,  1.04,  0.34],\n",
       "        [ 0.61,  0.36,  0.91,  0.76,  1.04,  0.74,  1.04,  0.99,  0.21],\n",
       "        [ 0.06,  0.06,  0.11,  0.21,  0.11,  0.16,  0.16,  0.21,  0.19],\n",
       "        [ 0.44,  0.16,  0.39,  0.56,  0.76,  0.39,  0.46,  0.39,  0.26],\n",
       "        [ 0.84,  0.64,  1.64,  1.41,  1.59,  0.84,  1.46,  1.51,  0.31],\n",
       "        [ 0.94,  0.66,  2.09,  1.34,  1.49,  0.91,  1.61,  1.66,  0.26],\n",
       "        [ 1.11,  0.56,  1.99,  1.69,  1.74,  1.06,  1.64,  1.72,  0.36],\n",
       "        [ 0.09,  0.04,  0.06,  0.19,  0.16,  0.19,  0.16,  0.11,  0.26],\n",
       "        [ 0.41,  0.06,  0.41,  0.59,  1.21,  0.64,  0.74,  0.51,  1.04],\n",
       "        [ 2.74,  2.44,  2.67,  1.89,  2.32,  1.56,  1.74,  1.41,  1.87],\n",
       "        [ 2.87,  4.07,  3.24,  2.34,  2.39,  1.97,  2.34,  1.97,  2.09],\n",
       "        [ 2.89,  5.  ,  3.27,  2.32,  2.79,  1.97,  2.49,  1.89,  2.14]]),\n",
       " array([[ 0.  ,  0.  ,  0.  ,  0.  ,  0.  ,  0.  ,  0.  ,  0.  ,  0.  ],\n",
       "        [ 0.  ,  0.  ,  0.  ,  0.  ,  0.  ,  0.  ,  0.  ,  0.  ,  0.  ],\n",
       "        [ 0.  ,  0.  ,  0.  ,  0.  ,  0.  ,  0.  ,  0.  ,  0.  ,  0.  ],\n",
       "        [ 0.  ,  0.  ,  0.  ,  0.  ,  0.  ,  0.  ,  0.  ,  0.  ,  0.  ],\n",
       "        [ 0.  ,  0.  ,  0.  ,  0.  ,  0.  ,  0.  ,  0.  ,  0.  ,  0.  ],\n",
       "        [ 0.04,  0.15,  0.12,  0.12,  0.15,  0.15,  0.12,  0.12,  0.25],\n",
       "        [ 0.04,  0.15,  0.12,  0.12,  0.15,  0.15,  0.12,  0.12,  0.25],\n",
       "        [ 0.04,  0.15,  0.12,  0.12,  0.15,  0.15,  0.12,  0.12,  0.25],\n",
       "        [ 0.04,  0.15,  0.12,  0.12,  0.15,  0.15,  0.12,  0.12,  0.25],\n",
       "        [ 0.04,  0.15,  0.12,  0.12,  0.15,  0.15,  0.12,  0.12,  0.25],\n",
       "        [ 0.1 ,  0.25,  0.25,  0.25,  0.25,  0.25,  0.25,  0.25,  0.35],\n",
       "        [ 0.1 ,  0.25,  0.25,  0.25,  0.25,  0.25,  0.25,  0.25,  0.35],\n",
       "        [ 0.1 ,  0.25,  0.25,  0.25,  0.25,  0.25,  0.25,  0.25,  0.35],\n",
       "        [ 0.1 ,  0.25,  0.25,  0.25,  0.25,  0.25,  0.25,  0.25,  0.35],\n",
       "        [ 0.1 ,  0.25,  0.25,  0.25,  0.25,  0.25,  0.25,  0.25,  0.35],\n",
       "        [ 1.  ,  1.  ,  1.  ,  1.  ,  1.  ,  1.  ,  1.  ,  1.  ,  1.  ],\n",
       "        [ 1.  ,  1.  ,  1.  ,  1.  ,  1.  ,  1.  ,  1.  ,  1.  ,  1.  ],\n",
       "        [ 1.  ,  1.  ,  1.  ,  1.  ,  1.  ,  1.  ,  1.  ,  1.  ,  1.  ],\n",
       "        [ 1.  ,  1.  ,  1.  ,  1.  ,  1.  ,  1.  ,  1.  ,  1.  ,  1.  ],\n",
       "        [ 1.  ,  1.  ,  1.  ,  1.  ,  1.  ,  1.  ,  1.  ,  1.  ,  1.  ]]),\n",
       " array([[ 0.  ,  0.  ,  0.  ,  0.  ,  0.  ,  0.  ,  0.  ,  0.  ,  0.  ],\n",
       "        [ 0.09,  0.17,  0.13,  0.13,  0.17,  0.17,  0.17,  0.17,  0.22],\n",
       "        [ 0.5 ,  0.5 ,  0.5 ,  0.5 ,  0.5 ,  0.5 ,  0.5 ,  0.5 ,  0.5 ],\n",
       "        [ 0.91,  0.83,  0.76,  0.76,  0.83,  0.83,  0.83,  0.83,  0.78],\n",
       "        [ 1.  ,  1.  ,  1.  ,  1.  ,  1.  ,  1.  ,  1.  ,  1.  ,  1.  ],\n",
       "        [ 0.  ,  0.  ,  0.  ,  0.  ,  0.  ,  0.  ,  0.  ,  0.  ,  0.  ],\n",
       "        [ 0.09,  0.17,  0.13,  0.13,  0.17,  0.17,  0.17,  0.17,  0.22],\n",
       "        [ 0.5 ,  0.5 ,  0.5 ,  0.5 ,  0.5 ,  0.5 ,  0.5 ,  0.5 ,  0.5 ],\n",
       "        [ 0.91,  0.83,  0.76,  0.76,  0.83,  0.83,  0.83,  0.83,  0.78],\n",
       "        [ 1.  ,  1.  ,  1.  ,  1.  ,  1.  ,  1.  ,  1.  ,  1.  ,  1.  ],\n",
       "        [ 0.  ,  0.  ,  0.  ,  0.  ,  0.  ,  0.  ,  0.  ,  0.  ,  0.  ],\n",
       "        [ 0.09,  0.17,  0.13,  0.13,  0.17,  0.17,  0.17,  0.17,  0.22],\n",
       "        [ 0.5 ,  0.5 ,  0.5 ,  0.5 ,  0.5 ,  0.5 ,  0.5 ,  0.5 ,  0.5 ],\n",
       "        [ 0.91,  0.83,  0.76,  0.76,  0.83,  0.83,  0.83,  0.83,  0.78],\n",
       "        [ 1.  ,  1.  ,  1.  ,  1.  ,  1.  ,  1.  ,  1.  ,  1.  ,  1.  ],\n",
       "        [ 0.  ,  0.  ,  0.  ,  0.  ,  0.  ,  0.  ,  0.  ,  0.  ,  0.  ],\n",
       "        [ 0.09,  0.17,  0.13,  0.13,  0.17,  0.17,  0.17,  0.17,  0.22],\n",
       "        [ 0.5 ,  0.5 ,  0.5 ,  0.5 ,  0.5 ,  0.5 ,  0.5 ,  0.5 ,  0.5 ],\n",
       "        [ 0.91,  0.83,  0.76,  0.76,  0.83,  0.83,  0.83,  0.83,  0.78],\n",
       "        [ 1.  ,  1.  ,  1.  ,  1.  ,  1.  ,  1.  ,  1.  ,  1.  ,  1.  ]])]"
      ]
     },
     "execution_count": 8,
     "metadata": {},
     "output_type": "execute_result"
    }
   ],
   "source": [
    "[subXs_allCD_posParam.round(decimals=2), creg5.round(decimals=2), dreg5.round(decimals=2)]"
   ]
  },
  {
   "cell_type": "code",
   "execution_count": null,
   "metadata": {
    "collapsed": false
   },
   "outputs": [],
   "source": [
    "print(df([gof1[0,:], gof5[0,:], gof2[0,:], gof4[0,:]]))\n",
    "print(df([gof1[1,:], gof5[1,:], gof2[1,:], gof4[1,:]]))"
   ]
  },
  {
   "cell_type": "code",
   "execution_count": 13,
   "metadata": {
    "collapsed": false
   },
   "outputs": [
    {
     "data": {
      "text/plain": [
       "array([ 0.43,  0.08,  0.99,  0.57,  0.28,  0.81,  0.74,  0.96,  0.13])"
      ]
     },
     "execution_count": 13,
     "metadata": {},
     "output_type": "execute_result"
    }
   ],
   "source": [
    "pvals5[0,:].round(decimals=2)"
   ]
  },
  {
   "cell_type": "code",
   "execution_count": 14,
   "metadata": {
    "collapsed": false
   },
   "outputs": [
    {
     "data": {
      "text/plain": [
       "array([ 0.24,  0.06,  0.21,  0.11,  0.13,  0.56,  0.09,  0.09,  0.26])"
      ]
     },
     "execution_count": 14,
     "metadata": {},
     "output_type": "execute_result"
    }
   ],
   "source": [
    "pvals5[1,:].round(decimals=2)"
   ]
  },
  {
   "cell_type": "code",
   "execution_count": 18,
   "metadata": {
    "collapsed": false
   },
   "outputs": [
    {
     "data": {
      "text/plain": [
       "array([  2.99799331e-05,   5.79587100e-11,   2.96353839e-04,\n",
       "         1.10512681e-03,   3.89761911e-03,   8.53447747e-06,\n",
       "         1.50078396e-03,   2.51730987e-02,   1.82683584e-04])"
      ]
     },
     "execution_count": 18,
     "metadata": {},
     "output_type": "execute_result"
    }
   ],
   "source": [
    "pvals5[2,:]"
   ]
  },
  {
   "cell_type": "code",
   "execution_count": 20,
   "metadata": {
    "collapsed": false
   },
   "outputs": [
    {
     "data": {
      "text/plain": [
       "array([ 0.89,  0.98,  0.85,  0.84,  0.83,  0.91,  0.83,  0.71,  0.89])"
      ]
     },
     "execution_count": 20,
     "metadata": {},
     "output_type": "execute_result"
    }
   ],
   "source": [
    "gof5[0,:].round(decimals=2)"
   ]
  },
  {
   "cell_type": "code",
   "execution_count": 21,
   "metadata": {
    "collapsed": false
   },
   "outputs": [
    {
     "data": {
      "text/plain": [
       "0.85786990776496264"
      ]
     },
     "execution_count": 21,
     "metadata": {},
     "output_type": "execute_result"
    }
   ],
   "source": [
    "np.mean(gof5[0,:])"
   ]
  },
  {
   "cell_type": "code",
   "execution_count": 24,
   "metadata": {
    "collapsed": false
   },
   "outputs": [
    {
     "data": {
      "text/plain": [
       "array([ 2.89,  5.  ,  3.27,  2.34,  2.79,  1.97,  2.49,  1.97,  2.14])"
      ]
     },
     "execution_count": 24,
     "metadata": {},
     "output_type": "execute_result"
    }
   ],
   "source": [
    "np.max(subXs_allCD_posParam,0)"
   ]
  },
  {
   "cell_type": "code",
   "execution_count": null,
   "metadata": {
    "collapsed": true
   },
   "outputs": [],
   "source": []
  }
 ],
 "metadata": {
  "kernelspec": {
   "display_name": "Python 2",
   "language": "python",
   "name": "python2"
  },
  "language_info": {
   "codemirror_mode": {
    "name": "ipython",
    "version": 2
   },
   "file_extension": ".py",
   "mimetype": "text/x-python",
   "name": "python",
   "nbconvert_exporter": "python",
   "pygments_lexer": "ipython2",
   "version": "2.7.9"
  }
 },
 "nbformat": 4,
 "nbformat_minor": 0
}
